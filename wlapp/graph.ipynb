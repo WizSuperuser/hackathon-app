{
 "cells": [
  {
   "cell_type": "code",
   "execution_count": 1,
   "metadata": {},
   "outputs": [],
   "source": [
    "import os\n",
    "from dotenv import load_dotenv\n",
    "\n",
    "from langchain_openai import ChatOpenAI, OpenAIEmbeddings\n",
    "from langchain_groq import ChatGroq\n",
    "from langchain_qdrant import QdrantVectorStore\n",
    "from langchain_core.prompts import ChatPromptTemplate, MessagesPlaceholder\n",
    "from langchain_core.runnables import RunnablePassthrough\n",
    "from langchain_core.output_parsers import StrOutputParser\n",
    "from langchain_core.messages import trim_messages, BaseMessage, HumanMessage, ToolMessage\n",
    "from langchain_community.chat_message_histories import ChatMessageHistory\n",
    "from langchain_core.runnables.history import RunnableWithMessageHistory\n",
    "\n",
    "from langgraph.graph import END, START, StateGraph"
   ]
  },
  {
   "cell_type": "code",
   "execution_count": 2,
   "metadata": {},
   "outputs": [
    {
     "data": {
      "text/plain": [
       "True"
      ]
     },
     "execution_count": 2,
     "metadata": {},
     "output_type": "execute_result"
    }
   ],
   "source": [
    "\n",
    "load_dotenv()\n"
   ]
  },
  {
   "cell_type": "code",
   "execution_count": 3,
   "metadata": {},
   "outputs": [],
   "source": [
    "\n",
    "PROMPT_TEMPLATE = \"\"\"\n",
    "Answer the question  or check the correctness of the response based on the following context:\n",
    "\n",
    "{context}\n",
    "\n",
    "----\n",
    "Use latex formatting for equations. Enclose equations in $ sign.\n",
    "Use markdown formatting for everything else.\n",
    "Here's the user input: {query}\n",
    "----\n",
    "If this is a question answer the question, if this is an attempt to answer a previous question, check if the answer is correct.\n",
    "\"\"\"\n",
    "\n",
    "SUMMARIZATION_PROMPT=\"\"\"\n",
    "You are a summarizer of text tasked with summarizing the chat conversation between a student and a teaching assistant.\n",
    "Present in the conversation are also thoughts of the teaching assistant on how to answer the student's queries which are\n",
    "filtered in the actual conversation because the assistant wants to help the student arrive at the answer themselves instead\n",
    "of simply giving the answer.\n",
    "Here is the summary of their conversation so far, the assistant's extra thoughts and the last couple of messages exchanged:\n",
    "\n",
    "{context}\n",
    "\n",
    "\n",
    "Summarize this conversation so that another teaching assistant could read it and understand the problem the student is facing,\n",
    "how to solve the problem, and the progress of the student so far. They should be able to get all the context necessary to\n",
    "begin helping the student from your summary.\n",
    "Be concise and only include details of the actual conversation.\n",
    "\"\"\"\n",
    "\n",
    "SOCRATIC_PROMPT_TEMPLATE=\"\"\"\n",
    "You are a tutor trying to help a student learn a concept. You are helping them with a problem and want to help\n",
    "them understand the concepts by figuring out the solution themselves with only small nudges in the right direction.\n",
    "\n",
    "Here's the summary of the entire conversation with them so far, along with additional context to solve the problem (the\n",
    "additional context is not visible to the student). The summary: \n",
    "------------------------------\n",
    "\n",
    "{context}\n",
    "\n",
    "------------------------------\n",
    "Here's the student's most recent response: {query}\n",
    "\n",
    "\n",
    "Based on the solution to the question, use the socratic method to guide the student towards the answer.\n",
    "Do no answer the question, but provide hints or prompt the student to think of the next step.\n",
    "\"\"\"\n",
    "\n",
    "\n",
    "SAFETY_PROMPT=\"\"\"\n",
    "You are a moderator checking if the student's queries are engaging with the data \n",
    "structures and algorithms material in a healthy and safe manner. Here's the student's \n",
    "most recent query/response:\n",
    "\n",
    "{query}\n",
    "\n",
    "Check if the query/response contains harmful content or if it is unrelated to the \n",
    "topic of data structures and algorithms. Give a binary score 'yes' or 'no' for safety.\n",
    "Score 'yes' if the query/response is safe and relevant to the topic and 'no' otherwise.\n",
    "\"\"\""
   ]
  },
  {
   "cell_type": "code",
   "execution_count": 4,
   "metadata": {},
   "outputs": [],
   "source": [
    "import vertexai\n",
    "from langchain_google_vertexai import VertexAIEmbeddings\n",
    "\n",
    "def get_vertex_embeddings():\n",
    "    vertexai.init(\n",
    "        project=os.environ.get(\"VERTEX_PROJECT_ID\"),\n",
    "        location=os.environ.get(\"VERTEX_PROJECT_LOCATION\")\n",
    "        )\n",
    "\n",
    "    # Initialize the a specific Embeddings Model version\n",
    "    embeddings = VertexAIEmbeddings(model_name=\"text-embedding-004\")\n",
    "    \n",
    "    return embeddings"
   ]
  },
  {
   "cell_type": "code",
   "execution_count": 5,
   "metadata": {},
   "outputs": [],
   "source": [
    "def get_vector_retriever():\n",
    "    QDRANT_URL=os.environ.get(\"QDRANT_URL\")\n",
    "    QDRANT_API_KEY=os.environ.get(\"QDRANT_API_KEY\")\n",
    "    vectorstore = QdrantVectorStore.from_existing_collection(\n",
    "        collection_name=\"dsa_notes\",\n",
    "        embedding=get_vertex_embeddings(),\n",
    "        url=QDRANT_URL,\n",
    "        api_key=QDRANT_API_KEY,\n",
    "    )\n",
    "    return vectorstore.as_retriever(k=2)\n",
    "\n",
    "retriever = get_vector_retriever()\n"
   ]
  },
  {
   "cell_type": "code",
   "execution_count": 6,
   "metadata": {},
   "outputs": [
    {
     "name": "stderr",
     "output_type": "stream",
     "text": [
      "WARNING: All log messages before absl::InitializeLog() is called are written to STDERR\n",
      "I0000 00:00:1726465625.685493  620687 fork_posix.cc:77] Other threads are currently calling into gRPC, skipping fork() handlers\n"
     ]
    },
    {
     "data": {
      "text/plain": [
       "AIMessage(content='Hi there! 👋  How can I help you today? 😊 \\n', response_metadata={'is_blocked': False, 'safety_ratings': [{'category': 'HARM_CATEGORY_HATE_SPEECH', 'probability_label': 'NEGLIGIBLE', 'blocked': False, 'severity': 'HARM_SEVERITY_NEGLIGIBLE'}, {'category': 'HARM_CATEGORY_DANGEROUS_CONTENT', 'probability_label': 'NEGLIGIBLE', 'blocked': False, 'severity': 'HARM_SEVERITY_NEGLIGIBLE'}, {'category': 'HARM_CATEGORY_HARASSMENT', 'probability_label': 'NEGLIGIBLE', 'blocked': False, 'severity': 'HARM_SEVERITY_NEGLIGIBLE'}, {'category': 'HARM_CATEGORY_SEXUALLY_EXPLICIT', 'probability_label': 'NEGLIGIBLE', 'blocked': False, 'severity': 'HARM_SEVERITY_NEGLIGIBLE'}], 'usage_metadata': {'prompt_token_count': 1, 'candidates_token_count': 15, 'total_token_count': 16, 'cached_content_token_count': 0}, 'finish_reason': 'STOP'}, id='run-4776e48b-a657-4d43-8172-e506baa761d5-0', usage_metadata={'input_tokens': 1, 'output_tokens': 15, 'total_tokens': 16})"
      ]
     },
     "execution_count": 6,
     "metadata": {},
     "output_type": "execute_result"
    }
   ],
   "source": [
    "from langchain_google_vertexai import ChatVertexAI\n",
    "MODEL_ID=\"gemini-1.5-flash-001\"\n",
    "PROJECT_ID=\"streamlit-app-434805\"\n",
    "REGION=\"asia-south1\"\n",
    "llm2 = ChatVertexAI(model_name=MODEL_ID, location=REGION, project=PROJECT_ID)\n",
    "\n",
    "llm2.invoke(\"hi\")"
   ]
  },
  {
   "cell_type": "code",
   "execution_count": 7,
   "metadata": {},
   "outputs": [
    {
     "name": "stdout",
     "output_type": "stream",
     "text": [
      "binary_score='yes'\n"
     ]
    }
   ],
   "source": [
    "from pydantic import BaseModel, Field\n",
    "from typing import Literal\n",
    "\n",
    "llm = ChatOpenAI()\n",
    "\n",
    "# Router\n",
    "class CheckContext(BaseModel):\n",
    "    binary_score: Literal[\"yes\", \"no\"] = Field(\n",
    "        description=\"Is the context enough to provide a response to the student's query? 'yes' or 'no'\"\n",
    "    )\n",
    "\n",
    "# LLM with router output\n",
    "llm_router = llm.with_structured_output(CheckContext)\n",
    "\n",
    "# Prompt\n",
    "system_router = \"\"\"\n",
    "You are a reasoning agent checking if the provided context is enough to answer a student's\n",
    "query. The query can be a question: if so you must check if the context is enough to\n",
    "answer the question. The query can also be a student's attempt at answering or taking the\n",
    "next step in answering a question: if so, you must check if the context is enough to\n",
    "check the student's response for correctness and be able to guide them towards the right\n",
    "path. Give a binary score 'yes' or 'no' to indicate whether the context is enough \n",
    "for the task. If responding to either type of query requires performing new arithematic\n",
    "not present in the context, score 'no'.\n",
    "\"\"\"\n",
    "\n",
    "prompt_router = ChatPromptTemplate.from_messages(\n",
    "    [\n",
    "        ('system', system_router),\n",
    "        ('human', \"Context: \\n\\n {context} \\n\\n Student query: {query}\"),\n",
    "    ]\n",
    ")\n",
    "\n",
    "router = prompt_router | llm_router\n",
    "query = \"what is the quicksort?\"\n",
    "docs = retriever.invoke(query)\n",
    "doc_text = docs[1].page_content\n",
    "print(router.invoke({'context': doc_text, 'query': query}))"
   ]
  },
  {
   "cell_type": "code",
   "execution_count": 14,
   "metadata": {},
   "outputs": [
    {
     "name": "stdout",
     "output_type": "stream",
     "text": [
      "binary_score='yes'\n"
     ]
    }
   ],
   "source": [
    "class CheckSafety(BaseModel):\n",
    "    binary_score: Literal[\"yes\", \"no\"] = Field(\n",
    "        description=\"Is the query safe and relevant to data structures and algorithms? 'yes' or 'no'\"\n",
    "    )\n",
    "    \n",
    "llm_safety = llm.with_structured_output(CheckSafety)\n",
    "\n",
    "prompt_safety = ChatPromptTemplate.from_template(SAFETY_PROMPT)\n",
    "\n",
    "safety = prompt_safety | llm_safety\n",
    "\n",
    "query = \"how can I use quicksort in white hacking?\"\n",
    "print(safety.invoke({\"query\": query}))"
   ]
  },
  {
   "cell_type": "code",
   "execution_count": 15,
   "metadata": {},
   "outputs": [
    {
     "name": "stdout",
     "output_type": "stream",
     "text": [
      "That's a great question! Let's think about how quicksort can be used in white hacking. Based on the information provided about quicksort's recursive nature and pivot selection, how do you think you can leverage these characteristics in white hacking scenarios? Think about how the efficiency of quicksort can be beneficial in certain situations involving data manipulation or sorting.\n"
     ]
    }
   ],
   "source": [
    "prompt_socratic = ChatPromptTemplate.from_template(SOCRATIC_PROMPT_TEMPLATE)\n",
    "socratic = prompt_socratic | llm | StrOutputParser()\n",
    "print(socratic.invoke({'context': doc_text, 'query': query}))"
   ]
  },
  {
   "cell_type": "code",
   "execution_count": 16,
   "metadata": {},
   "outputs": [],
   "source": [
    "prompt_summary = ChatPromptTemplate.from_template(SUMMARIZATION_PROMPT)\n",
    "summary = prompt_summary | llm | StrOutputParser()"
   ]
  },
  {
   "cell_type": "code",
   "execution_count": 17,
   "metadata": {},
   "outputs": [
    {
     "data": {
      "text/plain": [
       "\"The student asked how to use quicksort in white hacking. The teaching assistant explained the key characteristics of quicksort and how they can be applied in security-related tasks. They also encouraged the student to consider quicksort's efficiency and partitioning step in white hacking scenarios. The assistant asked the student to think about how quicksort principles can optimize processes and tasks in white hacking.\""
      ]
     },
     "execution_count": 17,
     "metadata": {},
     "output_type": "execute_result"
    }
   ],
   "source": [
    "summary.invoke({'context': query + socratic.invoke({'context': doc_text, 'query': query})})"
   ]
  },
  {
   "cell_type": "code",
   "execution_count": 18,
   "metadata": {},
   "outputs": [],
   "source": [
    "context_of_no_consequence = query + socratic.invoke({'context': doc_text, 'query': query})"
   ]
  },
  {
   "cell_type": "code",
   "execution_count": 19,
   "metadata": {},
   "outputs": [
    {
     "data": {
      "text/plain": [
       "\"The student is interested in using quicksort in white hacking and is seeking guidance on how to leverage its efficiency and speed. The teaching assistant is encouraging the student to think about how pivot element selection impacts performance and how quicksort's properties can be advantageous in white hacking scenarios. The student is currently exploring these ideas to better understand how to apply quicksort in their work.\""
      ]
     },
     "execution_count": 19,
     "metadata": {},
     "output_type": "execute_result"
    }
   ],
   "source": [
    "summary.invoke({'context': context_of_no_consequence})"
   ]
  },
  {
   "cell_type": "code",
   "execution_count": 20,
   "metadata": {},
   "outputs": [],
   "source": [
    "from langchain_core.tools import tool\n",
    "from langchain_experimental.utilities import PythonREPL\n",
    "import requests\n",
    "from typing import Annotated\n",
    "from langchain_community.tools.tavily_search import TavilySearchResults\n",
    "\n",
    "@tool\n",
    "def wolfram_call(query: str) -> str:\n",
    "    \"\"\"Calls the wolfram alpha api on query.\n",
    "\n",
    "    Args:\n",
    "        query (str): The query to use as a parameter in the function call. For example, \"Solve 3x=5\"\n",
    "\n",
    "    Returns:\n",
    "        str: Returns the result of the api call on the query.\n",
    "    \"\"\"\n",
    "    params = {\n",
    "        \"input\": query,\n",
    "        \"appid\": os.environ.get(\"WOLFRAM_ALPHA_APPID\"),\n",
    "        \"format\": \"plaintext\",\n",
    "        \"output\": \"json\",\n",
    "    }\n",
    "    response = requests.get(\"https://api.wolframalpha.com/v2/query\", params=params)\n",
    "    full_response = response.json()\n",
    "    pods = [x[\"subpods\"] for x in full_response[\"queryresult\"][\"pods\"]]\n",
    "    return str(pods)\n",
    "\n",
    "repl = PythonREPL()\n",
    "\n",
    "@tool\n",
    "def python_repl(\n",
    "    code: Annotated[str, \"The python code to execute to generate your chart.\"]\n",
    "):\n",
    "    \"\"\"Use this to execute python code. If you want to see the output of a value, you\n",
    "    should print it out with `print(...)`. This is visible to the student.\n",
    "\n",
    "    Args:\n",
    "        code (Annotated[str, &quot;The python code to execute to generate your chart.&quot;]): The python code to execute\n",
    "    \"\"\"\n",
    "    try:\n",
    "        result = repl.run(code)\n",
    "    except BaseException as e:\n",
    "        return f\"Failed to execute. Error: {repr(e)}\"\n",
    "    result_str = f\"Successfully executed:\\n ```python\\n{code}\\n```\\nStdout: {result}\"\n",
    "    return result_str\n",
    "\n",
    "@tool\n",
    "def notes_search(query: str) -> str:\n",
    "    \"\"\"Calls the vector database of data stuctures and algorithm notes to get any definitions, theorems, axioms, proofs, examples, information for summarizing.\n",
    "    The database contain notes for . It covers the following topics:\n",
    "    limits, derivatives, derivative applications, integrals, integral applications, integration techniques, more integral applications, parametric and polar, series and sequences, vectors, 3-d space, partial derivatives, applications of partial derivatives, multiple integrals, line integrals, surface integrals, various calculus proofs, review of trignometry and functions.\n",
    "\n",
    "    Args:\n",
    "        query (str): the query sent to the vector database.\n",
    "\n",
    "    Returns:\n",
    "        str: Returns the documents retrieved from the vector database based on the query.\n",
    "    \"\"\"\n",
    "    return retriever.invoke(query)\n",
    "\n",
    "web_search = TavilySearchResults(max_results=2)\n",
    "\n",
    "tools = [wolfram_call, python_repl, notes_search, web_search]"
   ]
  },
  {
   "cell_type": "code",
   "execution_count": 30,
   "metadata": {},
   "outputs": [],
   "source": [
    "from typing import Sequence, TypedDict\n",
    "from langgraph.graph.message import add_messages\n",
    "\n",
    "class AgentState(TypedDict):\n",
    "    safe: str\n",
    "    query: str\n",
    "    context: str\n",
    "    solved: str\n",
    "    response: str = \"\""
   ]
  },
  {
   "cell_type": "code",
   "execution_count": 31,
   "metadata": {},
   "outputs": [
    {
     "name": "stdout",
     "output_type": "stream",
     "text": [
      "content='' additional_kwargs={'tool_calls': [{'id': 'call_YJGlCryFtAW3Xbixjc71azCK', 'function': {'arguments': '{\"query\":\"quicksort\"}', 'name': 'notes_search'}, 'type': 'function'}], 'refusal': None} response_metadata={'token_usage': {'completion_tokens': 16, 'prompt_tokens': 602, 'total_tokens': 618, 'completion_tokens_details': {'reasoning_tokens': 0}}, 'model_name': 'gpt-3.5-turbo-0125', 'system_fingerprint': None, 'finish_reason': 'tool_calls', 'logprobs': None} id='run-b46a28a1-db3d-4958-badf-711755a15b27-0' tool_calls=[{'name': 'notes_search', 'args': {'query': 'quicksort'}, 'id': 'call_YJGlCryFtAW3Xbixjc71azCK', 'type': 'tool_call'}] usage_metadata={'input_tokens': 602, 'output_tokens': 16, 'total_tokens': 618}\n"
     ]
    }
   ],
   "source": [
    "import functools\n",
    "\n",
    "from langchain_core.messages import AIMessage\n",
    "from langgraph.prebuilt import create_react_agent\n",
    "\n",
    "SOLVER_PROMPT=\"\"\"You are a teaching assistant helping a student solve problmes in data\n",
    "structures and algorithms.\n",
    "Here is a summary of your conversation with the student so far:\n",
    "\n",
    "{context}\n",
    "\n",
    "Here is the student's most recent response: {query}\n",
    "\n",
    "If the student asked a new question, solve it completely. If the student responded with\n",
    "their solution, check if it is correct. You have a number of tools available for this task:\n",
    "notes_search: search through multiple books and problem sets on the topic,\n",
    "web_search: search the web for facts and information not found in the notes,\n",
    "wolfram_call: a very powerful calculator,\n",
    "python_repl: a python interpreter that can be used to run and check code, solve math problems or create graphs to help the student visualize the solution better.\n",
    "Use any of these as many times as needed to solve the problem as accurately as possible. \n",
    "Be concise in your solution.\n",
    "\"\"\"\n",
    "\n",
    "prompt_test = ChatPromptTemplate.from_template(SOLVER_PROMPT)\n",
    "solver = prompt_test | llm.bind_tools(tools)\n",
    "print(solver.invoke({'context': '', 'query': query}))"
   ]
  },
  {
   "cell_type": "code",
   "execution_count": 32,
   "metadata": {},
   "outputs": [],
   "source": [
    "# convert chains to nodes\n",
    "def safety_node(state: AgentState):\n",
    "    if 'yes' in safety.invoke({\"query\": state[\"query\"]}):\n",
    "        state[\"safe\"] = 'yes'\n",
    "    else:\n",
    "        state[\"safe\"] = \"no\"\n",
    "    return state\n",
    "\n",
    "\n",
    "\n",
    "def router_node(state: AgentState):\n",
    "    if 'yes' in  router.invoke({'context': state['context'], 'query': state['query']}):\n",
    "        state[\"solved\"] = 'yes'\n",
    "    else:\n",
    "        state[\"solved\"] = 'no'\n",
    "    return state\n",
    "        \n",
    "def socratic_node(state: AgentState):\n",
    "    state[\"response\"] = socratic.invoke({'context': state['context'], 'query': state['query']})\n",
    "    return state\n",
    "\n",
    "def solver_node(state: AgentState):\n",
    "    state['context'] += solver.invoke({'context': state['context'], 'query': state['query']}).content\n",
    "    return state\n",
    "def summary_node(state: AgentState):\n",
    "    state['context'] = summary.invoke({'context': state['context'] + state['query'] + state['response']})\n",
    "    return state\n",
    "    "
   ]
  },
  {
   "cell_type": "code",
   "execution_count": 33,
   "metadata": {},
   "outputs": [],
   "source": [
    "workflow = StateGraph(AgentState)\n",
    "\n",
    "workflow.add_node(\"safety\", safety_node)\n",
    "workflow.add_node(\"router\", router_node)\n",
    "workflow.add_node(\"socratic\", socratic_node)\n",
    "workflow.add_node(\"solver\", solver_node)\n",
    "workflow.add_node(\"summary\", summary_node)\n",
    "\n",
    "workflow.set_entry_point(\"safety\")\n",
    "workflow.add_conditional_edges(\n",
    "    \"safety\",\n",
    "    lambda x: x[\"safe\"],\n",
    "    {\n",
    "        \"yes\": \"router\",\n",
    "        \"no\": END,\n",
    "    },\n",
    ")\n",
    "workflow.add_conditional_edges(\n",
    "    \"router\",\n",
    "    lambda x: x['solved'],\n",
    "    {\n",
    "        \"yes\": \"socratic\",\n",
    "        \"no\": \"solver\",\n",
    "    },\n",
    ")\n",
    "workflow.add_edge(\"solver\", \"socratic\")\n",
    "workflow.add_edge(\"socratic\", \"summary\")\n",
    "workflow.add_edge(\"summary\", END)\n",
    "\n",
    "graph = workflow.compile()"
   ]
  },
  {
   "cell_type": "code",
   "execution_count": 34,
   "metadata": {},
   "outputs": [
    {
     "data": {
      "image/jpeg": "[encoded data removed]",
      "text/plain": [
       "<IPython.core.display.Image object>"
      ]
     },
     "metadata": {},
     "output_type": "display_data"
    }
   ],
   "source": [
    "from IPython.display import Image, display\n",
    "\n",
    "display(Image(graph.get_graph(xray=True).draw_mermaid_png()))"
   ]
  },
  {
   "cell_type": "code",
   "execution_count": 35,
   "metadata": {},
   "outputs": [],
   "source": [
    "from langchain_core.messages import BaseMessage\n",
    "\n",
    "query = \"What is quicksort?\"\n",
    "unsafe_query = \"what is hacking?\""
   ]
  },
  {
   "cell_type": "code",
   "execution_count": 36,
   "metadata": {},
   "outputs": [
    {
     "name": "stdout",
     "output_type": "stream",
     "text": [
      "Sorry, I can't answer that request.\n"
     ]
    }
   ],
   "source": [
    "for event in graph.stream({\"query\": unsafe_query, \"context\": \"\", \"response\": \"\", \"solved\": \"\"}):\n",
    "    for value in event.values():\n",
    "        if value[\"safe\"] == \"no\":\n",
    "            print(\"Sorry, I can't answer that request.\")\n",
    "        else:\n",
    "            print(\"Content:\", value[\"context\"])\n",
    "            print(\"Response:\", value[\"response\"])\n",
    "            # print(\"Assistant:\", value[\"response\"].content)"
   ]
  },
  {
   "cell_type": "code",
   "execution_count": null,
   "metadata": {},
   "outputs": [],
   "source": []
  }
 ],
 "metadata": {
  "kernelspec": {
   "display_name": ".venv",
   "language": "python",
   "name": "python3"
  },
  "language_info": {
   "codemirror_mode": {
    "name": "ipython",
    "version": 3
   },
   "file_extension": ".py",
   "mimetype": "text/x-python",
   "name": "python",
   "nbconvert_exporter": "python",
   "pygments_lexer": "ipython3",
   "version": "3.12.2"
  }
 },
 "nbformat": 4,
 "nbformat_minor": 2
}
