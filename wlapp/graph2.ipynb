{
 "cells": [
  {
   "cell_type": "code",
   "execution_count": 27,
   "metadata": {},
   "outputs": [
    {
     "data": {
      "text/plain": [
       "True"
      ]
     },
     "execution_count": 27,
     "metadata": {},
     "output_type": "execute_result"
    }
   ],
   "source": [
    "from dotenv import load_dotenv\n",
    "\n",
    "load_dotenv()"
   ]
  },
  {
   "cell_type": "code",
   "execution_count": 2,
   "metadata": {},
   "outputs": [],
   "source": [
    "from langchain_google_vertexai import ChatVertexAI\n",
    "MODEL_ID=\"gemini-1.5-flash-001\"\n",
    "PROJECT_ID=\"genai-exchange-hackathon\"\n",
    "REGION=\"asia-south1\"\n",
    "\n",
    "llm2 = ChatVertexAI(model_name=MODEL_ID)"
   ]
  },
  {
   "cell_type": "code",
   "execution_count": 3,
   "metadata": {},
   "outputs": [],
   "source": [
    "from langchain_groq import ChatGroq\n",
    "\n",
    "llm = ChatGroq(model=\"llama-3.1-70b-versatile\")"
   ]
  },
  {
   "cell_type": "code",
   "execution_count": 4,
   "metadata": {},
   "outputs": [],
   "source": [
    "import os\n",
    "import vertexai\n",
    "from langchain_google_vertexai import VertexAIEmbeddings\n",
    "vertexai.init(\n",
    "        project=os.environ.get(\"VERTEX_PROJECT_ID\"),\n",
    "        location=os.environ.get(\"VERTEX_PROJECT_LOCATION\")\n",
    "        )\n",
    "embeddings = VertexAIEmbeddings(model_name=\"text-embedding-004\", location=REGION, project=PROJECT_ID)"
   ]
  },
  {
   "cell_type": "code",
   "execution_count": 5,
   "metadata": {},
   "outputs": [],
   "source": [
    "import os\n",
    "from langchain_qdrant import QdrantVectorStore\n",
    "\n",
    "def get_vector_retriever():\n",
    "    QDRANT_URL=os.environ.get(\"QDRANT_URL\")\n",
    "    QDRANT_API_KEY=os.environ.get(\"QDRANT_API_KEY\")\n",
    "    vectorstore = QdrantVectorStore.from_existing_collection(\n",
    "        collection_name=\"dsa_notes\",\n",
    "        embedding=embeddings,\n",
    "        url=QDRANT_URL,\n",
    "        api_key=QDRANT_API_KEY,\n",
    "    )\n",
    "    return vectorstore.as_retriever(k=2)\n",
    "\n",
    "retriever = get_vector_retriever()"
   ]
  },
  {
   "cell_type": "code",
   "execution_count": 6,
   "metadata": {},
   "outputs": [],
   "source": [
    "from langchain_community.tools.tavily_search import TavilySearchResults\n",
    "tavily_search = TavilySearchResults(max_results=3)"
   ]
  },
  {
   "cell_type": "code",
   "execution_count": 7,
   "metadata": {},
   "outputs": [],
   "source": [
    "from langchain_community.document_loaders import WikipediaLoader"
   ]
  },
  {
   "cell_type": "code",
   "execution_count": 8,
   "metadata": {},
   "outputs": [],
   "source": [
    "from langgraph.graph import MessagesState\n",
    "from operator import add\n",
    "# from langgraph.graph.message import add_messages\n",
    "from typing import Annotated\n",
    "\n",
    "class State(MessagesState):\n",
    "    summary: str\n",
    "    context: str"
   ]
  },
  {
   "cell_type": "code",
   "execution_count": 9,
   "metadata": {},
   "outputs": [],
   "source": [
    "from langchain_core.messages import SystemMessage, HumanMessage\n",
    "\n",
    "simple_solver_prompt = \"\"\"You are helping with solving a student's questions about data structures and algorithms.\n",
    "\n",
    "These can be questions about definitions, help with debugging code or hard leetcode style problems to solve.\n",
    "\n",
    "Think carefully before answering any question. Explain your reasoning.\n",
    "\n",
    "Do not hallucinate. Do not make up facts. If you don't know how to answer a problem, just say so.\n",
    "\n",
    "Be concise.\"\"\"\n",
    "\n",
    "def simple_solver(state: State):\n",
    "    \n",
    "    messages = [SystemMessage(content=simple_solver_prompt)]\n",
    "    \n",
    "    # get summary if it exists\n",
    "    summary = state.get(\"summary\", \"\")\n",
    "    \n",
    "    # if there is summary, we add it to prompt\n",
    "    if summary:\n",
    "        \n",
    "        # add summary to system message\n",
    "        summary_message = f\"Summary of conversation earlier: {summary}\"\n",
    "        \n",
    "        # append summary to any newer message\n",
    "        messages += [HumanMessage(content=summary_message)]\n",
    "    \n",
    "    messages += state[\"messages\"]\n",
    "    \n",
    "    response = llm.invoke(messages)\n",
    "    # NEED TO PREVENT CONTEXT FROM BALLOONING if I change it to list and want to persist that\n",
    "    return {\"context\": response.content}"
   ]
  },
  {
   "cell_type": "code",
   "execution_count": 73,
   "metadata": {},
   "outputs": [],
   "source": [
    "\n",
    "\n",
    "socratic_prompt = \"\"\"You are a tutor trying to help a student gain a very strong understanding of a concept/problem. \n",
    "\n",
    "You are helping them with a problem and want to help them understand the concepts by figuring out the solution themselves with only nudges in the right direction.\n",
    "\n",
    "You have the solution above but the student has never seen it.\n",
    "\n",
    "If the student wants to learn about a new concept: use the solution to provide the necessary context. Then, based on that ask the student a question that requires them to apply the concept in code to help enhance their understanding.\n",
    "\n",
    "If the question is a problem to solve: based on the solution to the question, use the socratic method to guide the student towards the answer.\n",
    "\n",
    "Provide hints or prompt the student to think of the next step. If the student seems to be really stuggling with a concept, provide a larger hint. Always take a code-first approach when explaining, giving examples, or solving a problem.\"\"\"\n",
    "\n",
    "def socratic(state: State):\n",
    "    messages = [SystemMessage(content=state[\"context\"] + socratic_prompt)]\n",
    "    summary = state.get(\"summary\", \"\")\n",
    "    if summary:\n",
    "        summary_message = f\"Summary of your conversation with the student: {summary}\"\n",
    "        messages += [HumanMessage(content=summary_message)]\n",
    "    messages += state[\"messages\"]\n",
    "    \n",
    "    response = llm.invoke(messages)\n",
    "    return {\"messages\": response}"
   ]
  },
  {
   "cell_type": "code",
   "execution_count": 74,
   "metadata": {},
   "outputs": [],
   "source": [
    "from langchain_core.messages import RemoveMessage\n",
    "\n",
    "def summarize_conversation(state: State):\n",
    "    summary = state.get(\"summary\", \"\")\n",
    "    \n",
    "    if summary:\n",
    "        summary_message = (\n",
    "            f\"This is the summary of the conversation to date: {summary}\\n\\n\"\n",
    "            \"Be concise and extend the summary by taking into account the new messages above:\"\n",
    "        )\n",
    "    else:\n",
    "        summary_message = \"Create a summary of the conversation above:\"\n",
    "    \n",
    "    messages = state[\"messages\"] + [HumanMessage(content=summary_message)]\n",
    "    response = llm.invoke(messages)\n",
    "    \n",
    "    delete_messages = [RemoveMessage(id=m.id) for m in state[\"messages\"][:-2]]\n",
    "    return {\"summary\": response.content, \"messages\": delete_messages}"
   ]
  },
  {
   "cell_type": "code",
   "execution_count": 75,
   "metadata": {},
   "outputs": [],
   "source": [
    "from langgraph.graph import END\n",
    "\n",
    "def should_summarize(state: State):\n",
    "    \"\"\"Return whether to summarize depending on length of messages\"\"\"\n",
    "    messages = state[\"messages\"]\n",
    "    \n",
    "    if len(messages) > 6:\n",
    "        return \"summarize\"\n",
    "    return END"
   ]
  },
  {
   "cell_type": "code",
   "execution_count": 76,
   "metadata": {},
   "outputs": [],
   "source": [
    "from langgraph.errors import NodeInterrupt\n",
    "from langchain_core.messages import AIMessage\n",
    "# Human in the loop\n",
    "def give_answer(state: State):\n",
    "    \"\"\"Ask the student if they want a complete solution\"\"\"\n",
    "    messages = state['messages']\n",
    "    if len(messages) > 2:\n",
    "        state[\"messages\"] += [AIMessage(\"Would you like me to provide you the complete answer? Please reply as yes or no.\")]\n",
    "        raise NodeInterrupt(f\"Recent chat longer than 6 messages\")"
   ]
  },
  {
   "cell_type": "code",
   "execution_count": 77,
   "metadata": {},
   "outputs": [],
   "source": [
    "def route_to_answer(state: State):\n",
    "    if len(state['messages']) > 2:\n",
    "        message = state['messages'][-1]\n",
    "        if 'yes' in str(message).lower():\n",
    "            state[\"messages\"] += [HumanMessage(\"yes\")] + [HumanMessage(state['context'])]\n",
    "            return 'summarize'\n",
    "    else:\n",
    "        return 'socratic'"
   ]
  },
  {
   "cell_type": "code",
   "execution_count": 78,
   "metadata": {},
   "outputs": [
    {
     "data": {
      "image/jpeg": "[encoded data removed]",
      "text/plain": [
       "<IPython.core.display.Image object>"
      ]
     },
     "metadata": {},
     "output_type": "display_data"
    }
   ],
   "source": [
    "from langgraph.checkpoint.memory import MemorySaver\n",
    "from langgraph.graph import StateGraph, START\n",
    "from IPython.display import Image, display\n",
    "\n",
    "workflow = StateGraph(State)\n",
    "workflow.add_node(\"solver\", simple_solver)\n",
    "workflow.add_node(\"socratic\", socratic)\n",
    "workflow.add_node(\"summarize\", summarize_conversation)\n",
    "# workflow.add_node(\"interrupt\", give_answer)\n",
    "\n",
    "workflow.add_edge(START, \"solver\")\n",
    "workflow.add_edge(\"solver\", \"socratic\")\n",
    "# workflow.add_edge(\"solver\", \"interrupt\")\n",
    "# workflow.add_conditional_edges(\"interrupt\", route_to_answer, {\"summarize\": \"summarize\", \"socratic\": \"socratic\"})\n",
    "workflow.add_conditional_edges(\"socratic\", should_summarize, {\"summarize\": \"summarize\", END: END})\n",
    "workflow.add_edge(\"summarize\", END)\n",
    "\n",
    "memory = MemorySaver()\n",
    "graph = workflow.compile(checkpointer=memory)\n",
    "display(Image(graph.get_graph().draw_mermaid_png()))"
   ]
  },
  {
   "cell_type": "code",
   "execution_count": 79,
   "metadata": {},
   "outputs": [
    {
     "name": "stdout",
     "output_type": "stream",
     "text": [
      "==================================\u001b[1m Ai Message \u001b[0m==================================\n",
      "\n",
      "Hashing is a fundamental concept in computer science, but don't worry if you're not familiar with it yet. Let's break it down step by step.\n",
      "\n",
      "Imagine you have a large library with millions of books, and you want to find a specific book quickly. One way to do this is by using a catalog system where each book is assigned a unique identifier or \"hash\" based on its title, author, or other characteristics.\n",
      "\n",
      "In computer science, a hash is a fixed-size value that represents a larger piece of data, like a string or an integer. This hash value is generated using a hash function, which takes the input data and maps it to a unique hash value.\n",
      "\n",
      "Here's an example to illustrate this concept. Let's say we have a simple hash function that takes a string as input and returns a hash value based on the length of the string.\n",
      "\n",
      "```python\n",
      "def simple_hash(input_string):\n",
      "    return len(input_string)\n",
      "\n",
      "print(simple_hash(\"hello\"))  # Output: 5\n",
      "print(simple_hash(\"world\"))  # Output: 5\n",
      "```\n",
      "\n",
      "In this example, the hash function `simple_hash` takes a string as input and returns its length as the hash value.\n",
      "\n",
      "Now, let's think about how we can use this concept to solve a problem. Suppose we want to create a program that stores a collection of unique strings, and we want to ensure that each string is unique.\n",
      "\n",
      "How would you design a hash function to store these strings in a way that allows us to quickly check if a string already exists in the collection?\n",
      "\n",
      "What would be the key characteristics of this hash function, and how would you implement it in code?\n",
      "==================================\u001b[1m Ai Message \u001b[0m==================================\n",
      "\n",
      "Don't worry, it's a complex concept. Let's break it down further.\n",
      "\n",
      "To design a hash function that stores unique strings, we need to consider a few key characteristics:\n",
      "\n",
      "1. **Deterministic**: Given a specific input, the hash function should always return the same output.\n",
      "2. **Non-injective**: Different inputs can have the same output (this is known as a collision).\n",
      "3. **Fixed output size**: The output of the hash function should always be the same size, regardless of the input size.\n",
      "\n",
      "Let's focus on the first characteristic: deterministic. What does it mean for a function to be deterministic?\n",
      "\n",
      "In the context of a hash function, being deterministic means that if we input the same string, we should always get the same output. This is important because it ensures that we can consistently map a string to a specific hash value.\n",
      "\n",
      "Here's an example to illustrate this concept:\n",
      "\n",
      "```python\n",
      "def hash_function(input_string):\n",
      "    # What code would we need to write here to make this function deterministic?\n",
      "    pass\n",
      "```\n",
      "\n",
      "To make this function deterministic, we need to ensure that the output depends only on the input string, and not on any other factors. Can you think of a way to do this?\n",
      "\n",
      "For example, how about using the ASCII values of the characters in the input string? We could sum up the ASCII values, or multiply them together, or...?\n",
      "\n",
      "What do you think?\n",
      "==================================\u001b[1m Ai Message \u001b[0m==================================\n",
      "\n",
      "Let's take a closer look at the idea of using ASCII values to make the hash function deterministic.\n",
      "\n",
      "In ASCII, each character has a unique numerical value. For example, the character 'a' has an ASCII value of 97, and the character 'b' has an ASCII value of 98.\n",
      "\n",
      "We can use these ASCII values to create a deterministic hash function by summing up the values of all the characters in the input string.\n",
      "\n",
      "Here's an example:\n",
      "\n",
      "```python\n",
      "def hash_function(input_string):\n",
      "    hash_value = 0\n",
      "    for char in input_string:\n",
      "        hash_value += ord(char)\n",
      "    return hash_value\n",
      "```\n",
      "\n",
      "In this code, we use the `ord` function to get the ASCII value of each character, and then add it to the `hash_value`.\n",
      "\n",
      "Let's test this function with a few examples:\n",
      "\n",
      "```python\n",
      "print(hash_function(\"hello\"))  # Output: 532\n",
      "print(hash_function(\"world\"))  # Output: 552\n",
      "print(hash_function(\"hello\"))  # Output: 532 (same as before)\n",
      "```\n",
      "\n",
      "As you can see, the function is deterministic because it always returns the same output for the same input.\n",
      "\n",
      "However, there's still a problem with this function. Can you think of what it is?\n",
      "\n",
      "Hint: Think about what happens when we input two different strings that have the same characters, but in a different order. For example, what would happen if we input \"hello\" and \"olleh\"?\n"
     ]
    }
   ],
   "source": [
    "config = {\"configurable\": {\"thread_id\": \"6\"}}\n",
    "\n",
    "input_message = HumanMessage(content=\"what is hashing?\")\n",
    "output = graph.invoke({\"messages\": [input_message]}, config)\n",
    "for m in output['messages'][-1:]:\n",
    "    m.pretty_print()\n",
    "    \n",
    "input_message = HumanMessage(content=\"I'm not sure\")\n",
    "output = graph.invoke({\"messages\": [input_message]}, config) \n",
    "for m in output['messages'][-1:]:\n",
    "    m.pretty_print()\n",
    "    \n",
    "input_message = HumanMessage(content=\"I think I'm starting to get it but I need more help\")\n",
    "output = graph.invoke({\"messages\": [input_message]}, config) \n",
    "for m in output['messages'][-1:]:\n",
    "    m.pretty_print()"
   ]
  },
  {
   "cell_type": "code",
   "execution_count": 15,
   "metadata": {},
   "outputs": [
    {
     "data": {
      "text/plain": [
       "''"
      ]
     },
     "execution_count": 15,
     "metadata": {},
     "output_type": "execute_result"
    }
   ],
   "source": [
    "graph.get_state(config).values.get(\"summary\",\"\")"
   ]
  },
  {
   "cell_type": "code",
   "execution_count": 36,
   "metadata": {},
   "outputs": [
    {
     "name": "stdout",
     "output_type": "stream",
     "text": [
      "==================================\u001b[1m Ai Message \u001b[0m==================================\n",
      "\n",
      "Would you like me to provide you the complete answer? Please reply as yes or no.\n"
     ]
    }
   ],
   "source": [
    "config = {\"configurable\": {\"thread_id\": \"6\"}}\n",
    "input_message = HumanMessage(content=\"I think the databases have a key associated with each item that can be indexed very quickly.\")\n",
    "output = graph.invoke({\"messages\": [input_message]}, config) \n",
    "for m in output['messages'][-1:]:\n",
    "    m.pretty_print()"
   ]
  },
  {
   "cell_type": "code",
   "execution_count": 37,
   "metadata": {},
   "outputs": [
    {
     "data": {
      "text/plain": [
       "('interrupt',)"
      ]
     },
     "execution_count": 37,
     "metadata": {},
     "output_type": "execute_result"
    }
   ],
   "source": [
    "graph.get_state(config).next"
   ]
  },
  {
   "cell_type": "code",
   "execution_count": 38,
   "metadata": {},
   "outputs": [
    {
     "data": {
      "text/plain": [
       "(PregelTask(id='04f3cc1c-d4a0-c3c5-c41f-4fdfeac8f9c3', name='interrupt', error=None, interrupts=(Interrupt(value='Recent chat longer than 6 messages', when='during'),), state=None),)"
      ]
     },
     "execution_count": 38,
     "metadata": {},
     "output_type": "execute_result"
    }
   ],
   "source": [
    "graph.get_state(config).tasks"
   ]
  },
  {
   "cell_type": "code",
   "execution_count": 39,
   "metadata": {},
   "outputs": [
    {
     "data": {
      "text/plain": [
       "{'configurable': {'thread_id': '6',\n",
       "  'checkpoint_ns': '',\n",
       "  'checkpoint_id': '1ef7b188-064c-6666-8007-8aea05227951'}}"
      ]
     },
     "execution_count": 39,
     "metadata": {},
     "output_type": "execute_result"
    }
   ],
   "source": [
    "graph.update_state(\n",
    "    config,\n",
    "    {\"messages\": \"yes\"},\n",
    ")"
   ]
  },
  {
   "cell_type": "code",
   "execution_count": 58,
   "metadata": {},
   "outputs": [
    {
     "name": "stdout",
     "output_type": "stream",
     "text": [
      "{'messages': [HumanMessage(content='What is hashing?', id='8c23a2f7-86bc-4a1c-a8a4-e307648abdd2'), AIMessage(content=\"Hashing is a fundamental concept in computer science, but let's break it down step by step.\\n\\nTo start, can you think of a situation where you have a large amount of data, and you want to quickly identify or locate a specific piece of information within that data? Perhaps you've used a library or a database before. How do you think the library or database manages to find the specific book or piece of information you're looking for so quickly?\\n\\nWhat if I told you that there's a way to map a piece of information, like a string or an integer, to a unique identifier that can help us locate it more efficiently? What would you call this process, and how do you think it might work?\", response_metadata={'token_usage': {'completion_tokens': 145, 'prompt_tokens': 515, 'total_tokens': 660, 'completion_time': 0.581719616, 'prompt_time': 0.139046958, 'queue_time': 0.55903782, 'total_time': 0.720766574}, 'model_name': 'llama-3.1-70b-versatile', 'system_fingerprint': 'fp_b6828be2c9', 'finish_reason': 'stop', 'logprobs': None}, id='run-eff18597-4012-46eb-97ec-0dcf4d8a1344-0', usage_metadata={'input_tokens': 515, 'output_tokens': 145, 'total_tokens': 660}), HumanMessage(content='I think the databases have a key associated with each item that can be indexed very quickly.', id='429f9880-275e-422e-bca0-140e684d3fb5'), HumanMessage(content='yes', id='efcb259d-2a73-49d6-bf0a-c5885f41328d'), HumanMessage(content='no', id='e24a0ab9-6eee-4ea6-81b6-aaffade6243f')], 'context': \"That's a great intuition. In a database, a key is often used to uniquely identify a piece of information. And you're correct that databases use indexes to quickly locate data.\\n\\nHashing is a process that maps a piece of information, like a string or an integer, to a unique identifier, often called a hash code or digest. This hash code serves as an index or a key that can be used to quickly locate the associated data.\\n\\nThink of it like a phonebook. In a phonebook, names are mapped to phone numbers. When you look up a name, you can quickly find the corresponding phone number. Similarly, in hashing, a piece of data (like a string) is mapped to a unique hash code, which can be used to quickly locate the associated data.\\n\\nA good hashing function should have a few key properties:\\n\\n1. **Deterministic**: Given the same input, the hashing function should always produce the same output.\\n2. **Non-injective**: Different inputs should ideally produce different outputs (this is where collisions can occur).\\n3. **Fixed output size**: The output of the hashing function should always be of a fixed size, regardless of the input size.\\n\\nHashing has many applications, including data storage, data retrieval, and even cryptography. Some common data structures that rely on hashing include hash tables, sets, and maps.\\n\\nDo you have any questions about how hashing functions work or any specific applications you'd like to know more about?\"}\n"
     ]
    }
   ],
   "source": [
    "for event in graph.stream(None, config, stream_mode=\"values\"):\n",
    "    print(event)"
   ]
  },
  {
   "cell_type": "code",
   "execution_count": 49,
   "metadata": {},
   "outputs": [
    {
     "data": {
      "text/plain": [
       "('interrupt',)"
      ]
     },
     "execution_count": 49,
     "metadata": {},
     "output_type": "execute_result"
    }
   ],
   "source": [
    "graph.get_state(config).next"
   ]
  },
  {
   "cell_type": "code",
   "execution_count": 50,
   "metadata": {},
   "outputs": [
    {
     "data": {
      "text/plain": [
       "{'configurable': {'thread_id': '6',\n",
       "  'checkpoint_ns': '',\n",
       "  'checkpoint_id': '1ef7b484-199a-6b88-8008-d6e7871d3b09'}}"
      ]
     },
     "execution_count": 50,
     "metadata": {},
     "output_type": "execute_result"
    }
   ],
   "source": [
    "graph.update_state(config, {\"messages\": \"no\"},)"
   ]
  },
  {
   "cell_type": "code",
   "execution_count": 64,
   "metadata": {},
   "outputs": [
    {
     "ename": "KeyError",
     "evalue": "'socratic'",
     "output_type": "error",
     "traceback": [
      "\u001b[0;31m---------------------------------------------------------------------------\u001b[0m",
      "\u001b[0;31mKeyError\u001b[0m                                  Traceback (most recent call last)",
      "Cell \u001b[0;32mIn[64], line 2\u001b[0m\n\u001b[1;32m      1\u001b[0m \u001b[38;5;28;01mfor\u001b[39;00m event \u001b[38;5;129;01min\u001b[39;00m graph\u001b[38;5;241m.\u001b[39mstream({\u001b[38;5;124m\"\u001b[39m\u001b[38;5;124mmessages\u001b[39m\u001b[38;5;124m\"\u001b[39m: [HumanMessage(content\u001b[38;5;241m=\u001b[39m\u001b[38;5;124m\"\u001b[39m\u001b[38;5;124mwhat is pretty_print in python?\u001b[39m\u001b[38;5;124m\"\u001b[39m)]}, config, stream_mode\u001b[38;5;241m=\u001b[39m\u001b[38;5;124m\"\u001b[39m\u001b[38;5;124mupdates\u001b[39m\u001b[38;5;124m\"\u001b[39m):\n\u001b[0;32m----> 2\u001b[0m     \u001b[43mevent\u001b[49m\u001b[43m[\u001b[49m\u001b[38;5;124;43m'\u001b[39;49m\u001b[38;5;124;43msocratic\u001b[39;49m\u001b[38;5;124;43m'\u001b[39;49m\u001b[43m]\u001b[49m[\u001b[38;5;124m'\u001b[39m\u001b[38;5;124mmessages\u001b[39m\u001b[38;5;124m'\u001b[39m]\u001b[38;5;241m.\u001b[39mpretty_print()\n",
      "\u001b[0;31mKeyError\u001b[0m: 'socratic'"
     ]
    }
   ],
   "source": [
    "for event in graph.stream({\"messages\": [HumanMessage(content=\"what is pretty_print in python?\")]}, config, stream_mode=\"updates\"):\n",
    "    event['socratic']['messages'].pretty_print()"
   ]
  },
  {
   "cell_type": "code",
   "execution_count": 57,
   "metadata": {},
   "outputs": [
    {
     "name": "stdout",
     "output_type": "stream",
     "text": [
      "messages\n",
      "context\n"
     ]
    }
   ],
   "source": [
    "for event in graph.stream(None, config, stream_mode=\"values\"):\n",
    "    for value in event:\n",
    "        print(value)"
   ]
  },
  {
   "cell_type": "code",
   "execution_count": null,
   "metadata": {},
   "outputs": [],
   "source": [
    "for chunk in graph.stream({\"messages\": input_message}, config, stream_mode=\"updates\"):\n",
    "    chunk"
   ]
  }
 ],
 "metadata": {
  "kernelspec": {
   "display_name": ".venv",
   "language": "python",
   "name": "python3"
  },
  "language_info": {
   "codemirror_mode": {
    "name": "ipython",
    "version": 3
   },
   "file_extension": ".py",
   "mimetype": "text/x-python",
   "name": "python",
   "nbconvert_exporter": "python",
   "pygments_lexer": "ipython3",
   "version": "3.12.2"
  }
 },
 "nbformat": 4,
 "nbformat_minor": 2
}
