{
 "cells": [
  {
   "cell_type": "code",
   "execution_count": 1,
   "metadata": {},
   "outputs": [
    {
     "data": {
      "text/plain": [
       "True"
      ]
     },
     "execution_count": 1,
     "metadata": {},
     "output_type": "execute_result"
    }
   ],
   "source": [
    "from dotenv import load_dotenv\n",
    "\n",
    "load_dotenv()"
   ]
  },
  {
   "cell_type": "code",
   "execution_count": 8,
   "metadata": {},
   "outputs": [],
   "source": [
    "from langchain_google_vertexai import ChatVertexAI\n",
    "MODEL_ID=\"gemini-1.5-flash-001\"\n",
    "PROJECT_ID=\"genai-exchange-hackathon\"\n",
    "REGION=\"asia-south1\"\n",
    "\n",
    "llm2 = ChatVertexAI(model_name=MODEL_ID)"
   ]
  },
  {
   "cell_type": "code",
   "execution_count": 4,
   "metadata": {},
   "outputs": [],
   "source": [
    "from langchain_groq import ChatGroq\n",
    "\n",
    "llm = ChatGroq(model=\"llama-3.2-90b-text-preview\")"
   ]
  },
  {
   "cell_type": "code",
   "execution_count": 9,
   "metadata": {},
   "outputs": [],
   "source": [
    "import os\n",
    "import vertexai\n",
    "from langchain_google_vertexai import VertexAIEmbeddings\n",
    "vertexai.init(\n",
    "        project=os.environ.get(\"VERTEX_PROJECT_ID\"),\n",
    "        location=os.environ.get(\"VERTEX_PROJECT_LOCATION\")\n",
    "        )\n",
    "embeddings = VertexAIEmbeddings(model_name=\"text-embedding-004\", location=REGION, project=PROJECT_ID)"
   ]
  },
  {
   "cell_type": "code",
   "execution_count": 10,
   "metadata": {},
   "outputs": [],
   "source": [
    "import os\n",
    "from langchain_qdrant import QdrantVectorStore\n",
    "\n",
    "def get_vector_store():\n",
    "    QDRANT_URL=os.environ.get(\"QDRANT_URL\")\n",
    "    QDRANT_API_KEY=os.environ.get(\"QDRANT_API_KEY\")\n",
    "    vectorstore = QdrantVectorStore.from_existing_collection(\n",
    "        collection_name=\"dsa_notes\",\n",
    "        embedding=embeddings,\n",
    "        url=QDRANT_URL,\n",
    "        api_key=QDRANT_API_KEY,\n",
    "    )\n",
    "    return vectorstore\n",
    "\n",
    "vectorstore = get_vector_store()"
   ]
  },
  {
   "cell_type": "code",
   "execution_count": 39,
   "metadata": {},
   "outputs": [],
   "source": [
    "import datasets\n",
    "from langchain_core.documents import Document\n",
    "ds = datasets.load_from_disk(os.path.join(\"usaco_datasets\", \"usaco_v3_sampled_with_tests\"))\n",
    "\n",
    "\n",
    "\n",
    "\n",
    "input_states = [\n",
    "    {\n",
    "        \"name\": row[\"name\"],\n",
    "        \"problems\": [(\"question\", row[\"description\"])] + [(\"solution\", row[\"solution\"])],\n",
    "        \"test_cases\": row[\"test_cases\"],\n",
    "        \"runtime_limit\": row[\"runtime_limit\"],\n",
    "        \"problem_level\": row[\"problem_level\"],\n",
    "    }\n",
    "    for row in ds\n",
    "]\n",
    "\n",
    "documents = [\n",
    "    Document(\n",
    "        page_content=str(row[\"problems\"]),\n",
    "        metadata={\"runtime_limit\": row[\"runtime_limit\"], \"problem_level\": row[\"problem_level\"]}\n",
    "        ) \n",
    "    for row in input_states\n",
    "]\n"
   ]
  },
  {
   "cell_type": "code",
   "execution_count": 40,
   "metadata": {},
   "outputs": [
    {
     "data": {
      "text/plain": [
       "30"
      ]
     },
     "execution_count": 40,
     "metadata": {},
     "output_type": "execute_result"
    }
   ],
   "source": [
    "len(input_states)"
   ]
  },
  {
   "cell_type": "code",
   "execution_count": 31,
   "metadata": {},
   "outputs": [
    {
     "name": "stdout",
     "output_type": "stream",
     "text": [
      "[('question', '\\nFarmer John has $N$ ($1 \\\\leq N \\\\leq 2 \\\\cdot 10^5$) farms, numbered from $1$ to\\n$N$. It is known that FJ closes farm $i$ at time $c_i$. Bessie wakes up at time\\n$S$, and wants to maximize the productivity of her day by visiting as many farms\\nas possible before they close. She plans to visit farm $i$ on time $t_i + S$.\\nBessie must arrive at a farm strictly before Farmer John closes it to actually visit it.\\n\\nBessie has $Q$ $(1 \\\\leq Q \\\\leq 2 \\\\cdot 10^5)$ queries. For each query, she gives\\nyou two integers $S$ and $V$. For each query, output whether Bessie can visit at\\nleast $V$ farms if she wakes up at time $S$.\\n\\nINPUT FORMAT (input arrives from the terminal / stdin):\\nThe first line consists of $N$ and $Q$.\\n\\nThe second line consists of $c_1, c_2, c_3 \\\\dots c_N$ ($1 \\\\leq c_i \\\\leq 10^6$).\\n\\nThe third line consists of $t_1, t_2, t_3 \\\\dots t_N$ ($1 \\\\leq t_i \\\\leq 10^6$).\\n\\nThe next $Q$ lines each consist of two integers $V$ ($1 \\\\leq V \\\\leq N$) and $S$\\n($1 \\\\leq S \\\\leq 10^6$).\\n\\nOUTPUT FORMAT (print output to the terminal / stdout):\\nFor each of the $Q$ queries, output YES or NO on a new line.\\n\\nSAMPLE INPUT:\\n5 5\\n3 5 7 9 12\\n4 2 3 3 8\\n1 5\\n1 6\\n3 3\\n4 2\\n5 1\\nSAMPLE OUTPUT: \\nYES\\nNO\\nYES\\nYES\\nNO\\n\\nFor the first query, Bessie will visit the farms at time $t = [9, 7, 8, 8, 13]$,\\nso she will only get to visit farm $4$ on time before FJ closes the farm.\\n\\nFor the second query, Bessie will not be able to visit any of the farms on time.\\n\\nFor the third query, Bessie will visit farms $3, 4, 5$ on time.\\n\\nFor the fourth and fifth queries, Bessie will be able to visit all but the first\\nfarm on time.\\n\\nSCORING:\\nInputs 2-4: $N,Q\\\\le 10^3$Inputs 5-9: $c_i, t_i \\\\le 20$Inputs 10-17: No additional constraints.\\n\\n\\nProblem credits: Chongtian Ma\\n'), ('solution', '\\n(Analysis by Alex Fan)\\nSubtask 1: $N, Q < 10^3$.\\nWe can directly simulate the process according to the problem statement. For\\neach query, we iterate through all the farms and see if we can visit it in time,\\n$t_i + S < c_i$. Each query takes $\\\\mathcal{O}(N)$ operations, giving us\\nan $\\\\mathcal{O}(NQ)$ solution.\\nAlex Fan\\'s C++ Code:\\n\\nusing namespace std;\\n\\n#include <iostream>\\n\\n#define MAXN 200005\\n\\nint N,Q,c[MAXN],t[MAXN];\\n\\nint main() {\\n\\tcin >> N >> Q;\\n\\tfor(int i = 0;i < N;++i) {\\n\\t\\tcin >> c[i];\\n\\t}\\n\\tfor(int i = 0;i < N;++i) {\\n\\t\\tcin >> t[i];\\n\\t}\\n\\n\\tfor(int i = 0;i < Q;++i) {\\n\\t\\tint v,s;\\n\\t\\tcin >> v >> s;\\n\\t\\tint uwu = 0;\\n\\t\\tfor(int j = 0;j < N;++j) {\\n\\t\\t\\tif(s + t[j] < c[j]) {\\n\\t\\t\\t\\tuwu++;\\n\\t\\t\\t}\\n\\t\\t}\\n\\t\\tcout << (uwu >= v ? \"YES\" : \"NO\") << endl;\\n\\t}\\n\\n\\treturn 0;\\n}\\n\\nPython Code:\\n\\nN, Q = (int(x) for x in input().split())\\nc = [int(x) for x in input().split()]\\nt = [int(x) for x in input().split()]\\nfor _ in range(Q):\\n    V, S = (int(x) for x in input().split())\\n    uwu = 0\\n    for i in range(N):\\n        if(S + t[i] < c[i]):\\n            uwu += 1\\n    print(\"YES\" if (uwu >= V) else \"NO\")\\n\\nSubtask 2: $c_i, t_i < 20$\\nThe key observation is to notice that we can rearrange the formula\\n$t_i + S < c_i$ as $c_i - t_i > S$. Therefore, for each farm, we can take\\nadvantage of the fact that $c_i - t_i$ can only be between $-20$ to $20$.\\nIf $c_i - t_i \\\\leq 0$, then we can get rid of it since we can never make it in\\ntime. Otherwise, there are only $21$ possible values despite there being\\n$2 \\\\cdot 10^5$ farms. We exploit this observation by grouping the same\\n$c_i - t_i$ values together. This can be implemented with a map, or, since the\\nvalues are between $0$ and $20$, an array of length $21$.\\nFinally, to check if a query works, we iterate through the array and count the\\nnumber of valid barns that satisfy the inequality. The valid range is always\\nthe continuous interval to the right of $S$.\\nEach query takes $\\\\mathcal{O}(MAXC)$ time where $MAXC \\\\leq 20$ is the maximum\\nvalue of $c_i$, so the total complexity is $\\\\mathcal{O}(N + Q \\\\cdot MAXC)$\\nAlex Fan\\'s C++ Code:\\n\\nusing namespace std;\\n\\n#include <iostream>\\n#include <map>\\n\\n#define MAXN 200005\\n#define MAXA 1000005\\n\\nint N,Q,c[MAXN],t[MAXN],cnt[MAXA],max_element;\\n\\nint main() {\\n\\tcin >> N >> Q;\\n\\tfor(int i = 0;i < N;++i) {\\n\\t\\tcin >> c[i];\\n\\t}\\n\\tfor(int i = 0;i < N;++i) {\\n\\t\\tcin >> t[i];\\n\\t\\tif(c[i] > t[i]) {\\n\\t\\t\\t// Maintain the count array of c[i] - t[i]\\n\\t\\t\\tcnt[c[i] - t[i]]++;\\n\\t\\t}\\n\\t\\t// We can also replace max_element as the constant 20\\n\\t\\tmax_element = max(max_element,c[i] - t[i]);\\n\\t}\\n\\n\\tfor(int i = 0;i < Q;++i) {\\n\\t\\tint v,s;\\n\\t\\tcin >> v >> s;\\n\\t\\tint uwu = 0;\\n\\t\\tif(N <= 1e3) {\\n\\t\\t\\t// Subtask 1\\n\\t\\t\\tfor(int i = 0;i < N;++i) {\\n\\t\\t\\t\\tif(t[i] + s < c[i]) uwu++;\\n\\t\\t\\t}\\n\\t\\t}else if(max_element <= 20) {\\n\\t\\t\\t// Subatsk 2\\n\\t\\t\\tfor(int i = s + 1;i <= max_element;++i) {\\n\\t\\t\\t\\tuwu += cnt[i];\\n\\t\\t\\t}\\n\\t\\t}\\n\\t\\tcout << (uwu >= v ? \"YES\" : \"NO\") << endl;\\n\\t}\\n\\n\\treturn 0;\\n}\\n\\nPython Code:\\n\\nN, Q = (int(x) for x in input().split())\\nc = [int(x) for x in input().split()]\\nt = [int(x) for x in input().split()]\\n\\ncnt = [0] * 25\\n\\nfor i in range(N):\\n\\tif(c[i] > t[i]):\\n\\t\\tcnt[c[i] - t[i]] += 1\\n\\nfor _ in range(Q):\\n    V, S = (int(x) for x in input().split())\\n    uwu = 0\\n    for i in range(S + 1,25,1):\\n        uwu += cnt[i]\\n    print(\"YES\" if (uwu >= V) else \"NO\")\\n\\n\\nFull Credit:\\nThe final step is to efficiently count the number of farms such that their\\n$c_i - t_i$ is greater than some query value $S$. This is a standard setup that\\ncan be solved by first sorting all the differences and applying binary search. This gives an $\\\\mathcal{O}(N\\\\log N + Q\\\\log N)$ solution.\\nAlternatively, you can further observe that after we sort all the values of\\n$c_i - t_i$, the query $(V, S)$ is \"YES\" if and only if the $V$-th largest value\\nof $c_i - t_i$ is more than $S$, which can be done by checking the $i$-th\\nelement of the sorted array. Reference Brandon Wang\\'s Python Code for the\\nimplementation. This also results in a $\\\\mathcal{O}(N\\\\log N + Q)$ solution.\\nAlex Fan\\'s C++ Code:\\n\\nusing namespace std;\\n\\n#include <iostream>\\n#include <algorithm>\\n#include <fstream>\\n\\n#define MAXN 200005\\n\\nint N,Q,c[MAXN],t[MAXN];\\n\\nint main() {\\n\\tcin >> N >> Q;\\n\\tfor(int i = 0;i < N;++i) {\\n\\t\\tcin >> c[i];\\n\\t}\\n\\tfor(int i = 0;i < N;++i) {\\n\\t\\tcin >> t[i];\\n\\t\\tc[i] -= t[i];\\n\\t}\\n\\n\\tsort(c,c + N);\\n\\n\\tfor(int i = 0;i < Q;++i) {\\n\\t\\tint v,s;\\n\\t\\tcin >> v >> s;\\n\\t\\tint uwu = N - (lower_bound(c,c + N,s + 1) - c);\\n\\t\\tcout << (uwu >= v ? \"YES\" : \"NO\") << endl;\\n\\t}\\n\\n\\treturn 0;\\n}\\n\\nBrandon Wang\\'s Python Code\\n\\nN, Q = (int(x) for x in input().split())\\nc = [int(x) for x in input().split()]\\nt = [int(x) for x in input().split()]\\ndiffs = sorted([ci - ti for ci, ti in zip(c, t)], reverse=True)\\nfor _ in range(Q):\\n    V, S = (int(x) for x in input().split())\\n    print(\"YES\" if (V <= N and (V <= 0 or diffs[V-1] > S)) else \"NO\")\\n\\n')]\n"
     ]
    }
   ],
   "source": [
    "# Print the first row of input_states to see the structure\n",
    "# print(\"First row of input_states:\")\n",
    "print(input_states[0][\"problems\"])\n"
   ]
  },
  {
   "cell_type": "code",
   "execution_count": 41,
   "metadata": {},
   "outputs": [
    {
     "name": "stdout",
     "output_type": "stream",
     "text": [
      "bronze\n",
      "Maximizing Productivity\n"
     ]
    }
   ],
   "source": [
    "print(input_states[0][\"problem_level\"])\n",
    "print(input_states[0][\"name\"])"
   ]
  },
  {
   "cell_type": "code",
   "execution_count": null,
   "metadata": {},
   "outputs": [],
   "source": []
  },
  {
   "cell_type": "code",
   "execution_count": 20,
   "metadata": {},
   "outputs": [
    {
     "data": {
      "text/plain": [
       "['768a4e07-12ee-4b64-9f61-7737ffa3d5c0',\n",
       " '69c79a9a-6ab9-4b51-a2f9-1058c5749969',\n",
       " '1245a480-9814-4101-bfa2-56023e265245',\n",
       " 'd34212f7-3255-409e-85bf-0a3fa638585c',\n",
       " '0384379c-3f9e-49f8-b5a6-facf419d0b8f',\n",
       " '96afb12c-f547-4372-849c-9bc8fe84b0ab',\n",
       " '83314dd0-8e5a-4536-852c-cbc55a5a0431',\n",
       " '42df10b0-f55b-4823-a0fb-8b2d820d0f80',\n",
       " 'd5594839-4c9c-4fe6-b264-f84eafc923af',\n",
       " 'f0e31e80-93a2-44dc-b8d7-18daa9ea7369',\n",
       " '12cfc7dc-219b-4326-8468-506078e824ad',\n",
       " '6c0b5e6e-a050-449f-81db-26300127d1bc',\n",
       " '294511b0-4685-4eec-888b-012b2f4d1863',\n",
       " 'a000e747-fba6-4e56-890d-4838ea3a24ac',\n",
       " '1d3282f8-51c1-4333-9959-7f30fb342367',\n",
       " '7cd8b31a-ffab-4721-85e1-2d31103ab364',\n",
       " '8addfa88-aa46-43d7-8785-34879b018658',\n",
       " '31c6f01c-9f5a-40f4-af9e-23d03ce6d158',\n",
       " 'f82ea617-c822-4942-88e5-da4206b821e7',\n",
       " '219d4e16-f9de-466c-9ecb-e3bc6e9afe98',\n",
       " '4dea184a-6383-4f09-8b1f-89edab0be658',\n",
       " '6ed9ab88-1cca-4ace-ac67-e9dc3de1950d',\n",
       " '8d9cb9cc-f968-44d3-83a2-0ec10b6df132',\n",
       " 'fd58b349-8a7f-4327-ae3f-2f23588fe60d',\n",
       " 'e8ecfa5c-52e0-4bb8-9e42-a3dad9d8895e',\n",
       " '28fa0d46-dc3d-4a9d-ac9f-ed22630455aa',\n",
       " 'c3c09c05-cb4f-4bae-a2ab-3682a02f5e39',\n",
       " '6cdf4bbc-6c79-4dec-803b-eff781b08f57',\n",
       " '13f41759-7556-4e25-a291-49ec893af848',\n",
       " '9d7fcb25-ab26-4638-9580-74a83a807b90']"
      ]
     },
     "execution_count": 20,
     "metadata": {},
     "output_type": "execute_result"
    }
   ],
   "source": [
    "from uuid import uuid4\n",
    "\n",
    "uuids = [str(uuid4()) for _ in range(len(documents))]\n",
    "vectorstore.add_documents(documents=documents, ids=uuids)\n"
   ]
  },
  {
   "cell_type": "code",
   "execution_count": 21,
   "metadata": {},
   "outputs": [
    {
     "name": "stdout",
     "output_type": "stream",
     "text": [
      "* [('question', '\\nFarmer John has $N$ ($1 \\\\leq N \\\\leq 2 \\\\cdot 10^5$) farms, numbered from $1$ to\\n$N$. It is known that FJ closes farm $i$ at time $c_i$. Bessie wakes up at time\\n$S$, and wants to maximize the productivity of her day by visiting as many farms\\nas possible before they close. She plans to visit farm $i$ on time $t_i + S$.\\nBessie must arrive at a farm strictly before Farmer John closes it to actually visit it.\\n\\nBessie has $Q$ $(1 \\\\leq Q \\\\leq 2 \\\\cdot 10^5)$ queries. For each query, she gives\\nyou two integers $S$ and $V$. For each query, output whether Bessie can visit at\\nleast $V$ farms if she wakes up at time $S$.\\n\\nINPUT FORMAT (input arrives from the terminal / stdin):\\nThe first line consists of $N$ and $Q$.\\n\\nThe second line consists of $c_1, c_2, c_3 \\\\dots c_N$ ($1 \\\\leq c_i \\\\leq 10^6$).\\n\\nThe third line consists of $t_1, t_2, t_3 \\\\dots t_N$ ($1 \\\\leq t_i \\\\leq 10^6$).\\n\\nThe next $Q$ lines each consist of two integers $V$ ($1 \\\\leq V \\\\leq N$) and $S$\\n($1 \\\\leq S \\\\leq 10^6$).\\n\\nOUTPUT FORMAT (print output to the terminal / stdout):\\nFor each of the $Q$ queries, output YES or NO on a new line.\\n\\nSAMPLE INPUT:\\n5 5\\n3 5 7 9 12\\n4 2 3 3 8\\n1 5\\n1 6\\n3 3\\n4 2\\n5 1\\nSAMPLE OUTPUT: \\nYES\\nNO\\nYES\\nYES\\nNO\\n\\nFor the first query, Bessie will visit the farms at time $t = [9, 7, 8, 8, 13]$,\\nso she will only get to visit farm $4$ on time before FJ closes the farm.\\n\\nFor the second query, Bessie will not be able to visit any of the farms on time.\\n\\nFor the third query, Bessie will visit farms $3, 4, 5$ on time.\\n\\nFor the fourth and fifth queries, Bessie will be able to visit all but the first\\nfarm on time.\\n\\nSCORING:\\nInputs 2-4: $N,Q\\\\le 10^3$Inputs 5-9: $c_i, t_i \\\\le 20$Inputs 10-17: No additional constraints.\\n\\n\\nProblem credits: Chongtian Ma\\n'), ('solution', '\\n(Analysis by Alex Fan)\\nSubtask 1: $N, Q < 10^3$.\\nWe can directly simulate the process according to the problem statement. For\\neach query, we iterate through all the farms and see if we can visit it in time,\\n$t_i + S < c_i$. Each query takes $\\\\mathcal{O}(N)$ operations, giving us\\nan $\\\\mathcal{O}(NQ)$ solution.\\nAlex Fan\\'s C++ Code:\\n\\nusing namespace std;\\n\\n#include <iostream>\\n\\n#define MAXN 200005\\n\\nint N,Q,c[MAXN],t[MAXN];\\n\\nint main() {\\n\\tcin >> N >> Q;\\n\\tfor(int i = 0;i < N;++i) {\\n\\t\\tcin >> c[i];\\n\\t}\\n\\tfor(int i = 0;i < N;++i) {\\n\\t\\tcin >> t[i];\\n\\t}\\n\\n\\tfor(int i = 0;i < Q;++i) {\\n\\t\\tint v,s;\\n\\t\\tcin >> v >> s;\\n\\t\\tint uwu = 0;\\n\\t\\tfor(int j = 0;j < N;++j) {\\n\\t\\t\\tif(s + t[j] < c[j]) {\\n\\t\\t\\t\\tuwu++;\\n\\t\\t\\t}\\n\\t\\t}\\n\\t\\tcout << (uwu >= v ? \"YES\" : \"NO\") << endl;\\n\\t}\\n\\n\\treturn 0;\\n}\\n\\nPython Code:\\n\\nN, Q = (int(x) for x in input().split())\\nc = [int(x) for x in input().split()]\\nt = [int(x) for x in input().split()]\\nfor _ in range(Q):\\n    V, S = (int(x) for x in input().split())\\n    uwu = 0\\n    for i in range(N):\\n        if(S + t[i] < c[i]):\\n            uwu += 1\\n    print(\"YES\" if (uwu >= V) else \"NO\")\\n\\nSubtask 2: $c_i, t_i < 20$\\nThe key observation is to notice that we can rearrange the formula\\n$t_i + S < c_i$ as $c_i - t_i > S$. Therefore, for each farm, we can take\\nadvantage of the fact that $c_i - t_i$ can only be between $-20$ to $20$.\\nIf $c_i - t_i \\\\leq 0$, then we can get rid of it since we can never make it in\\ntime. Otherwise, there are only $21$ possible values despite there being\\n$2 \\\\cdot 10^5$ farms. We exploit this observation by grouping the same\\n$c_i - t_i$ values together. This can be implemented with a map, or, since the\\nvalues are between $0$ and $20$, an array of length $21$.\\nFinally, to check if a query works, we iterate through the array and count the\\nnumber of valid barns that satisfy the inequality. The valid range is always\\nthe continuous interval to the right of $S$.\\nEach query takes $\\\\mathcal{O}(MAXC)$ time where $MAXC \\\\leq 20$ is the maximum\\nvalue of $c_i$, so the total complexity is $\\\\mathcal{O}(N + Q \\\\cdot MAXC)$\\nAlex Fan\\'s C++ Code:\\n\\nusing namespace std;\\n\\n#include <iostream>\\n#include <map>\\n\\n#define MAXN 200005\\n#define MAXA 1000005\\n\\nint N,Q,c[MAXN],t[MAXN],cnt[MAXA],max_element;\\n\\nint main() {\\n\\tcin >> N >> Q;\\n\\tfor(int i = 0;i < N;++i) {\\n\\t\\tcin >> c[i];\\n\\t}\\n\\tfor(int i = 0;i < N;++i) {\\n\\t\\tcin >> t[i];\\n\\t\\tif(c[i] > t[i]) {\\n\\t\\t\\t// Maintain the count array of c[i] - t[i]\\n\\t\\t\\tcnt[c[i] - t[i]]++;\\n\\t\\t}\\n\\t\\t// We can also replace max_element as the constant 20\\n\\t\\tmax_element = max(max_element,c[i] - t[i]);\\n\\t}\\n\\n\\tfor(int i = 0;i < Q;++i) {\\n\\t\\tint v,s;\\n\\t\\tcin >> v >> s;\\n\\t\\tint uwu = 0;\\n\\t\\tif(N <= 1e3) {\\n\\t\\t\\t// Subtask 1\\n\\t\\t\\tfor(int i = 0;i < N;++i) {\\n\\t\\t\\t\\tif(t[i] + s < c[i]) uwu++;\\n\\t\\t\\t}\\n\\t\\t}else if(max_element <= 20) {\\n\\t\\t\\t// Subatsk 2\\n\\t\\t\\tfor(int i = s + 1;i <= max_element;++i) {\\n\\t\\t\\t\\tuwu += cnt[i];\\n\\t\\t\\t}\\n\\t\\t}\\n\\t\\tcout << (uwu >= v ? \"YES\" : \"NO\") << endl;\\n\\t}\\n\\n\\treturn 0;\\n}\\n\\nPython Code:\\n\\nN, Q = (int(x) for x in input().split())\\nc = [int(x) for x in input().split()]\\nt = [int(x) for x in input().split()]\\n\\ncnt = [0] * 25\\n\\nfor i in range(N):\\n\\tif(c[i] > t[i]):\\n\\t\\tcnt[c[i] - t[i]] += 1\\n\\nfor _ in range(Q):\\n    V, S = (int(x) for x in input().split())\\n    uwu = 0\\n    for i in range(S + 1,25,1):\\n        uwu += cnt[i]\\n    print(\"YES\" if (uwu >= V) else \"NO\")\\n\\n\\nFull Credit:\\nThe final step is to efficiently count the number of farms such that their\\n$c_i - t_i$ is greater than some query value $S$. This is a standard setup that\\ncan be solved by first sorting all the differences and applying binary search. This gives an $\\\\mathcal{O}(N\\\\log N + Q\\\\log N)$ solution.\\nAlternatively, you can further observe that after we sort all the values of\\n$c_i - t_i$, the query $(V, S)$ is \"YES\" if and only if the $V$-th largest value\\nof $c_i - t_i$ is more than $S$, which can be done by checking the $i$-th\\nelement of the sorted array. Reference Brandon Wang\\'s Python Code for the\\nimplementation. This also results in a $\\\\mathcal{O}(N\\\\log N + Q)$ solution.\\nAlex Fan\\'s C++ Code:\\n\\nusing namespace std;\\n\\n#include <iostream>\\n#include <algorithm>\\n#include <fstream>\\n\\n#define MAXN 200005\\n\\nint N,Q,c[MAXN],t[MAXN];\\n\\nint main() {\\n\\tcin >> N >> Q;\\n\\tfor(int i = 0;i < N;++i) {\\n\\t\\tcin >> c[i];\\n\\t}\\n\\tfor(int i = 0;i < N;++i) {\\n\\t\\tcin >> t[i];\\n\\t\\tc[i] -= t[i];\\n\\t}\\n\\n\\tsort(c,c + N);\\n\\n\\tfor(int i = 0;i < Q;++i) {\\n\\t\\tint v,s;\\n\\t\\tcin >> v >> s;\\n\\t\\tint uwu = N - (lower_bound(c,c + N,s + 1) - c);\\n\\t\\tcout << (uwu >= v ? \"YES\" : \"NO\") << endl;\\n\\t}\\n\\n\\treturn 0;\\n}\\n\\nBrandon Wang\\'s Python Code\\n\\nN, Q = (int(x) for x in input().split())\\nc = [int(x) for x in input().split()]\\nt = [int(x) for x in input().split()]\\ndiffs = sorted([ci - ti for ci, ti in zip(c, t)], reverse=True)\\nfor _ in range(Q):\\n    V, S = (int(x) for x in input().split())\\n    print(\"YES\" if (V <= N and (V <= 0 or diffs[V-1] > S)) else \"NO\")\\n\\n')] [{'runtime_limit': 2, 'problem_level': 'bronze', '_id': '768a4e07-12ee-4b64-9f61-7737ffa3d5c0', '_collection_name': 'dsa_notes'}]\n",
      "* [('question', \"\\nFarmer Nhoj dropped Bessie in the middle of nowhere! At time $t=0$, Bessie is\\nlocated at $x=0$ on an infinite number line. She frantically searches for an\\nexit by moving left or right by $1$ unit each second. However, there actually is\\nno exit and after $T$ seconds, Bessie is back at $x=0$, tired and resigned. \\n\\nFarmer Nhoj tries to track Bessie but only knows how many times Bessie crosses\\n$x=.5, 1.5, 2.5, \\\\ldots, (N-1).5$, given by an array $A_0,A_1,\\\\dots,A_{N-1}$\\n($1\\\\leq N \\\\leq 10^5$, $1 \\\\leq A_i \\\\leq 10^6$). Bessie never reaches $x>N$ nor\\n$x<0$.\\n\\nIn particular, Bessie's route can be represented by a string of\\n$T = \\\\sum_{i=0}^{N-1} A_i$ $L$s and $R$s where the $i$th character represents\\nthe direction Bessie moves in during the $i$th second. The number of direction\\nchanges is defined as the number of occurrences of  $LR$s plus the number of\\noccurrences of $RL$s. \\n\\nPlease help Farmer Nhoj count the number of routes Bessie could have taken that\\nare consistent with $A$ and minimize the number of direction changes. It is\\nguaranteed that there is at least one valid route.\\n\\nINPUT FORMAT (input arrives from the terminal / stdin):\\nThe first line contains $N$. The second line contains $A_0,A_1,\\\\dots,A_{N-1}$.\\n\\nOUTPUT FORMAT (print output to the terminal / stdout):\\nThe number of routes Bessie could have taken, modulo $10^9+7$.\\n\\nSAMPLE INPUT:\\n2\\n4 6\\nSAMPLE OUTPUT: \\n2\\n\\nBessie must change direction at least 5 times. There are two routes \\ncorresponding to Bessie changing direction exactly 5 times:\\n\\n\\nRRLRLLRRLL\\nRRLLRRLRLL\\n\\nSCORING:\\nInputs 2-4: $N\\\\le 2$ and $\\\\max(A_i)\\\\le 10^3$Inputs 5-7: $N\\\\le 2$Inputs 8-11: $\\\\max(A_i)\\\\le 10^3$Inputs 12-21: No additional constraints.\\n\\n\\nProblem credits: Brandon Wang, Claire Zhang, and Benjamin Qi\\n\"), ('solution', \"\\n(Analysis by Claire Zhang and Brandon Wang)\\nLet's annotate each character in the route with a subscript that indicates which\\n$i.5$ point it passes. That is, we denote $i+1\\\\to i$ moves by $L_i$, and\\n$i\\\\to i+1$ moves by $R_i$. Then, our string must contain exactly\\n$B_i = \\\\frac{A_i}{2}$ $L_i$'s, and $B_i$ $R_i$'s. In any route with minimal\\nturns, we must have:\\nIf $B_i \\\\geq B_{i+1}$, then any $L_{i+1}$ must be followed by a $L_i$. \\nFurthermore, exactly $B_{i+1}$ $R_i$'s are followed by $R_{i+1}$'s, and the\\nother $B_i - B_{i+1}$  are followed by $L_i$'s.If $B_i \\\\leq B_{i+1}$,\\nthen any $R_i$ must be followed by a $R_{i+1}$.  Furthermore, exactly $B_i$\\n$L_{i+1}$'s are followed by $L_i$'s, and the other $B_{i+1} - B_i$  are followed\\nby $R_{i+1}$'s.\\nIn addition, we note that in any route, the final $L_{i+1}$ must be followed by\\nan $L_i$ (and not an $R_{i+1}$)  since otherwise Bessie would not have a way to\\nreturn to $0$.\\nWe claim that this is the only restriction. That is, to count the number of\\npaths, for each $i = 0, 1, \\\\ldots, N-2$ it suffices to count the number of ways\\nto pick which $R_i$'s that are followed by $R_{i+1}$'s if $B_i \\\\geq B_{i+1}$, \\nor which $L_{i+1}$'s followed by $L_i$'s if $B_i \\\\leq B_{i+1}$ (such that the\\nlast $L_{i+1}$ is followed by an $L_i$).  Then, any such assignment will produce\\na unique valid path.\\nUniqueness is clear, but to show validity, suppose we construct the route by\\nfollowing the assignments, where the route ends when the last $L_0$ is reached\\n(and all previous $L_0$'s are followed by $R_0$'s). We need to check that all of\\nthe $L_i$'s and $R_i$'s are actually used; since the number of $R_i$'s and\\n$L_i$'s is the same, we need to check that this path visits $B_i$ $L_i$'s. \\nWe will do this by induction, where $L_0$ is true by assumption. For the\\ninductive step, suppose $B_i$ $L_i$'s appear in the path. Then, if\\n$B_i \\\\geq B_{i+1}$, then $B_i-B_{i+1}$ $L_i$'s are preceded by $R_i$'s, and\\n$B_{i+1}$ of them are preceded by $L_{i+1}$'s. So, in order for all the $L_i$'s\\nto appear, all the $L_{i+1}$'s must also appear. Conversely, if\\n$B_i \\\\leq B_{i+1}$, then since the last $L_{i+1}$ is immediately followed by an\\n$L_i$,  if not all $L_{i+1}$'s appear then not all $L_i$'s can appear,\\ncontradicting the inductive hypothesis. So, the constructed path contains $B_i$\\n$L_i$'s for each $i$, and thus crosses $i.5$ exactly $2B_i = A_i$ times.\\nMinimality (i.e. the fact that exactly\\n$(B_0 - 1) + \\\\left(\\\\sum_{i=0}^{n-2} |B_i - B_{i+1}|\\\\right) + (B_{n-1})$  turns are made) follows by the\\nconstruction.\\nNow, if $B_i \\\\geq B_{i+1}$, then the number of assignments is just\\n$\\\\binom{B_i}{B_{i+1}}$. In the second the other case, since the last $L_{i+1}$\\nmust be followed by $L_i$, the answer is\\n$\\\\binom{B_{i+1}-1}{B_i-1}$.\\nThus we obtain our answer as a product of binomial coefficients:\\n$$\\n\\\\prod_{i=0}^{N-2} \\\\begin{cases} \\\\binom{B_i}{B_{i+1}} & \\\\text{ if } B_i \\\\geq B_{i+1} \\\\\\\\\\n\\\\binom{B_{i+1}-1}{B_i-1} & \\\\text{ otherwise } \\\\end{cases}\\n$$\\nLet $T = \\\\max_i A_i$. We can precompute factorials in $O(T)$ time. We can\\ncompute inverse factorials by first computing the modular inverse of $T!$ (e.g.,\\nby raising it to $MOD-2$ with binary exponentiation). Then we can obtain all\\nsmaller inverse factorials in decreasing order. Now we can compute each binomial\\ncoefficient in the desired expression in $O(1)$ time, for a total runtime of\\n$O(\\\\log(MOD) + T+N)$.\\nPython solution:\\n\\nP = int(1e9+7)\\nMAX_A = int(1e6+1)\\n \\n# computes a^n mod P\\ndef exp(a, n):\\n    if n == 0:\\n        return 1\\n    base = exp((a*a)%P, n // 2)\\n    return base if n%2 == 0 else (a*base)%P\\n \\n# initialize\\nfacts = [1]\\nfor i in range(1, MAX_A):\\n    facts.append((facts[-1] * i)%P)\\ninv_facts = [exp(facts[-1], P-2)]\\nfor i in range(MAX_A-1, 0, -1):\\n    inv_facts.append((inv_facts[-1] * i)%P)\\ninv_facts.reverse()\\n \\n# binom(n, m) = n!/(m!(n-m)!)\\nbinom = lambda n, m : (inv_facts[m] * (facts[n] * inv_facts[n-m])%P)%P\\n \\nN = int(input())\\nA = [int(x) for x in input().split()]\\nB = [a // 2 for a in A]\\n \\nans = 1\\nfor i in range(N-1):\\n    if B[i] >= B[i+1]:\\n        ans *= binom(B[i], B[i+1])\\n    else:\\n        ans *= binom(B[i+1]-1, B[i]-1)\\n    ans %= P\\n \\nprint(ans)\\n\\n\")] [{'runtime_limit': 2, 'problem_level': 'gold', '_id': '31c6f01c-9f5a-40f4-af9e-23d03ce6d158', '_collection_name': 'dsa_notes'}]\n"
     ]
    }
   ],
   "source": [
    "results = vectorstore.similarity_search(\n",
    "    \"Farmer John has $N$ ($1 \\\\leq N \\\\leq 2 \\\\cdot 10^5$) farms, numbered from $1$ to\\n$N$. It is known that FJ closes farm $i$ at time $c_i$. Bessie wakes up at time\\n$S$, and wants to maximize the productivity of her day by visiting as many farms\\nas possible before they close. She plans to visit\", k=2\n",
    ")\n",
    "for res in results:\n",
    "    print(f\"* {res.page_content} [{res.metadata}]\")"
   ]
  },
  {
   "cell_type": "code",
   "execution_count": 22,
   "metadata": {},
   "outputs": [],
   "source": [
    "from langchain_community.tools.tavily_search import TavilySearchResults\n",
    "tavily_search = TavilySearchResults(max_results=3)"
   ]
  },
  {
   "cell_type": "code",
   "execution_count": 23,
   "metadata": {},
   "outputs": [],
   "source": [
    "from langchain_community.document_loaders import WikipediaLoader"
   ]
  },
  {
   "cell_type": "code",
   "execution_count": 24,
   "metadata": {},
   "outputs": [],
   "source": [
    "from langgraph.graph import MessagesState\n",
    "from operator import add\n",
    "# from langgraph.graph.message import add_messages\n",
    "from typing import Annotated\n",
    "\n",
    "class State(MessagesState):\n",
    "    summary: str\n",
    "    context: str"
   ]
  },
  {
   "cell_type": "code",
   "execution_count": 25,
   "metadata": {},
   "outputs": [],
   "source": [
    "from langchain_core.messages import SystemMessage, HumanMessage\n",
    "\n",
    "simple_solver_prompt = \"\"\"You are helping with solving a student's questions about data structures and algorithms.\n",
    "\n",
    "These can be questions about definitions, help with debugging code or hard leetcode style problems to solve.\n",
    "\n",
    "Think carefully before answering any question. Explain your reasoning.\n",
    "\n",
    "Do not hallucinate. Do not make up facts. If you don't know how to answer a problem, just say so.\n",
    "\n",
    "Be concise.\"\"\"\n",
    "\n",
    "def simple_solver(state: State):\n",
    "    \n",
    "    messages = [SystemMessage(content=simple_solver_prompt)]\n",
    "    \n",
    "    # get summary if it exists\n",
    "    summary = state.get(\"summary\", \"\")\n",
    "    \n",
    "    # if there is summary, we add it to prompt\n",
    "    if summary:\n",
    "        \n",
    "        # add summary to system message\n",
    "        summary_message = f\"Summary of conversation earlier: {summary}\"\n",
    "        \n",
    "        # append summary to any newer message\n",
    "        messages += [HumanMessage(content=summary_message)]\n",
    "    \n",
    "    messages += state[\"messages\"]\n",
    "    \n",
    "    response = llm.invoke(messages)\n",
    "    # NEED TO PREVENT CONTEXT FROM BALLOONING if I change it to list and want to persist that\n",
    "    return {\"context\": response.content}"
   ]
  },
  {
   "cell_type": "code",
   "execution_count": 26,
   "metadata": {},
   "outputs": [],
   "source": [
    "\n",
    "\n",
    "socratic_prompt = \"\"\"You are a tutor trying to help a student gain a very strong understanding of a concept/problem. \n",
    "\n",
    "You are helping them with a problem and want to help them understand the concepts by figuring out the solution themselves with only nudges in the right direction.\n",
    "\n",
    "You have the solution above but the student has never seen it.\n",
    "\n",
    "If the student wants to learn about a new concept: use the solution to provide the necessary context. Then, based on that ask the student a question that requires them to apply the concept in code to help enhance their understanding.\n",
    "\n",
    "If the question is a problem to solve: based on the solution to the question, use the socratic method to guide the student towards the answer.\n",
    "\n",
    "Provide hints or prompt the student to think of the next step. If the student seems to be really stuggling with a concept, provide a larger hint. Always take a code-first approach when explaining, giving examples, or solving a problem.\n",
    "\n",
    "After the student has sufficiently solved the problem, provide the full solution including the code for their reference. Then ask them a question based on the concepts learned.\"\"\"\n",
    "#### New line not in graph.py yet above\n",
    "#### TEST!\n",
    "####\n",
    "def socratic(state: State):\n",
    "    messages = [SystemMessage(content=state[\"context\"] + socratic_prompt)]\n",
    "    summary = state.get(\"summary\", \"\")\n",
    "    if summary:\n",
    "        summary_message = f\"Summary of your conversation with the student: {summary}\"\n",
    "        messages += [HumanMessage(content=summary_message)]\n",
    "    messages += state[\"messages\"]\n",
    "    \n",
    "    response = llm.invoke(messages)\n",
    "    return {\"messages\": response}"
   ]
  },
  {
   "cell_type": "code",
   "execution_count": 27,
   "metadata": {},
   "outputs": [],
   "source": [
    "from langchain_core.messages import RemoveMessage\n",
    "\n",
    "def summarize_conversation(state: State):\n",
    "    summary = state.get(\"summary\", \"\")\n",
    "    \n",
    "    if summary:\n",
    "        summary_message = (\n",
    "            f\"This is the summary of the conversation to date: {summary}\\n\\n\"\n",
    "            \"Be concise and extend the summary by taking into account the new messages above:\"\n",
    "        )\n",
    "    else:\n",
    "        summary_message = \"Create a summary of the conversation above:\"\n",
    "    \n",
    "    messages = state[\"messages\"] + [HumanMessage(content=summary_message)]\n",
    "    response = llm.invoke(messages)\n",
    "    \n",
    "    delete_messages = [RemoveMessage(id=m.id) for m in state[\"messages\"][:-2]]\n",
    "    return {\"summary\": response.content, \"messages\": delete_messages}"
   ]
  },
  {
   "cell_type": "code",
   "execution_count": 28,
   "metadata": {},
   "outputs": [],
   "source": [
    "from langgraph.graph import END\n",
    "\n",
    "def should_summarize(state: State):\n",
    "    \"\"\"Return whether to summarize depending on length of messages\"\"\"\n",
    "    messages = state[\"messages\"]\n",
    "    \n",
    "    if len(messages) > 6:\n",
    "        return \"summarize\"\n",
    "    return END"
   ]
  },
  {
   "cell_type": "code",
   "execution_count": 29,
   "metadata": {},
   "outputs": [],
   "source": [
    "from langgraph.errors import NodeInterrupt\n",
    "from langchain_core.messages import AIMessage\n",
    "# Human in the loop\n",
    "def give_answer(state: State):\n",
    "    \"\"\"Ask the student if they want a complete solution\"\"\"\n",
    "    messages = state['messages']\n",
    "    if len(messages) > 2:\n",
    "        state[\"messages\"] += [AIMessage(\"Would you like me to provide you the complete answer? Please reply as yes or no.\")]\n",
    "        raise NodeInterrupt(f\"Recent chat longer than 6 messages\")"
   ]
  },
  {
   "cell_type": "code",
   "execution_count": 30,
   "metadata": {},
   "outputs": [],
   "source": [
    "def route_to_answer(state: State):\n",
    "    if len(state['messages']) > 2:\n",
    "        message = state['messages'][-1]\n",
    "        if 'yes' in str(message).lower():\n",
    "            state[\"messages\"] += [HumanMessage(\"yes\")] + [HumanMessage(state['context'])]\n",
    "            return 'summarize'\n",
    "    else:\n",
    "        return 'socratic'"
   ]
  },
  {
   "cell_type": "code",
   "execution_count": 32,
   "metadata": {},
   "outputs": [
    {
     "data": {
      "image/jpeg": "[encoded data removed]",
      "text/plain": [
       "<IPython.core.display.Image object>"
      ]
     },
     "metadata": {},
     "output_type": "display_data"
    }
   ],
   "source": [
    "from langgraph.checkpoint.memory import MemorySaver\n",
    "from langgraph.graph import StateGraph, START\n",
    "from IPython.display import Image, display\n",
    "\n",
    "workflow = StateGraph(State)\n",
    "workflow.add_node(\"solver\", simple_solver)\n",
    "workflow.add_node(\"socratic\", socratic)\n",
    "workflow.add_node(\"summarize\", summarize_conversation)\n",
    "# workflow.add_node(\"interrupt\", give_answer)\n",
    "\n",
    "workflow.add_edge(START, \"solver\")\n",
    "workflow.add_edge(\"solver\", \"socratic\")\n",
    "# workflow.add_edge(\"solver\", \"interrupt\")\n",
    "# workflow.add_conditional_edges(\"interrupt\", route_to_answer, {\"summarize\": \"summarize\", \"socratic\": \"socratic\"})\n",
    "workflow.add_conditional_edges(\"socratic\", should_summarize, {\"summarize\": \"summarize\", END: END})\n",
    "workflow.add_edge(\"summarize\", END)\n",
    "\n",
    "memory = MemorySaver()\n",
    "graph = workflow.compile(checkpointer=memory)\n",
    "display(Image(graph.get_graph().draw_mermaid_png()))"
   ]
  },
  {
   "cell_type": "code",
   "execution_count": 34,
   "metadata": {},
   "outputs": [
    {
     "name": "stdout",
     "output_type": "stream",
     "text": [
      "==================================\u001b[1m Ai Message \u001b[0m==================================\n",
      "\n",
      "To determine whether Bessie can visit a particular farm if she wakes up at a certain time, you can use the values in `c` and `t` to calculate a time value that will tell you whether Bessie can visit a farm.\n",
      "\n",
      "Here's a question to guide you:\n",
      "\n",
      "Can you think of a way to calculate a single time value for each farm that represents the latest time Bessie can wake up and still visit that farm?\n",
      "\n",
      "For example, if the closing time of a farm is `c_i` and the visit time is `t_i`, what would be the latest time Bessie can wake up and still visit that farm?\n",
      "\n",
      "Write some code to calculate this value for each farm. \n",
      "\n",
      "(You can use a simple loop to iterate over the farms and calculate this value.)\n",
      "\n",
      "```python\n",
      "c = list(map(int, input().split()))\n",
      "t = list(map(int, input().split()))\n",
      "\n",
      "times = []\n",
      "for ci, ti in zip(c, t):\n",
      "    # Calculate the latest time Bessie can wake up and still visit this farm\n",
      "    latest_wake_up_time = ci - ti\n",
      "    times.append(latest_wake_up_time)\n",
      "```\n",
      "\n",
      "Now that you have the latest wake-up times for each farm, can you think of a way to use this information to answer the queries?\n",
      "\n",
      "For example, if Bessie wakes up at a certain time `S` and wants to visit at least `V` farms, how can you use the `times` list to determine whether this is possible?\n"
     ]
    }
   ],
   "source": [
    "config = {\"configurable\": {\"thread_id\": \"3\"}}\n",
    "input_message = HumanMessage(content=\"\"\"Farmer John has $N$ ($1 \\\\leq N \\\\leq 2 \\\\cdot 10^5$) farms, numbered from $1$ to\\n$N$. It is known that FJ closes farm $i$ at time $c_i$. Bessie wakes up at time\\n$S$, and wants to maximize the productivity of her day by visiting as many farms\\nas possible before they close. She plans to visit farm $i$ on time $t_i + S$.\\nBessie must arrive at a farm strictly before Farmer John closes it to actually visit it.\\n\\nBessie has $Q$ $(1 \\\\leq Q \\\\leq 2 \\\\cdot 10^5)$ queries. For each query, she gives\\nyou two integers $S$ and $V$. For each query, output whether Bessie can visit at\\nleast $V$ farms if she wakes up at time $S$.\\n\\nINPUT FORMAT (input arrives from the terminal / stdin):\\nThe first line consists of $N$ and $Q$.\\n\\nThe second line consists of $c_1, c_2, c_3 \\\\dots c_N$ ($1 \\\\leq c_i \\\\leq 10^6$).\\n\\nThe third line consists of $t_1, t_2, t_3 \\\\dots t_N$ ($1 \\\\leq t_i \\\\leq 10^6$).\\n\\nThe next $Q$ lines each consist of two integers $V$ ($1 \\\\leq V \\\\leq N$) and $S$\\n($1 \\\\leq S \\\\leq 10^6$).\\n\\nOUTPUT FORMAT (print output to the terminal / stdout):\\nFor each of the $Q$ queries, output YES or NO on a new line.\\n\\nSAMPLE INPUT:\\n5 5\\n3 5 7 9 12\\n4 2 3 3 8\\n1 5\\n1 6\\n3 3\\n4 2\\n5 1\\nSAMPLE OUTPUT: \\nYES\\nNO\\nYES\\nYES\\nNO\\n\\nFor the first query, Bessie will visit the farms at time $t = [9, 7, 8, 8, 13]$,\\nso she will only get to visit farm $4$ on time before FJ closes the farm.\\n\\nFor the second query, Bessie will not be able to visit any of the farms on time.\\n\\nFor the third query, Bessie will visit farms $3, 4, 5$ on time.\\n\\nFor the fourth and fifth queries, Bessie will be able to visit all but the first\\nfarm on time.\\n\\nSCORING:\\nInputs 2-4: $N,Q\\\\le 10^3$Inputs 5-9: $c_i, t_i \\\\le 20$Inputs 10-17: No additional constraints.\n",
    "Help me solve this problem.\"\"\")\n",
    "output = graph.invoke({\"messages\": [input_message]}, config)\n",
    "for m in output['messages'][-1:]:\n",
    "    m.pretty_print()"
   ]
  },
  {
   "cell_type": "code",
   "execution_count": 79,
   "metadata": {},
   "outputs": [
    {
     "name": "stdout",
     "output_type": "stream",
     "text": [
      "==================================\u001b[1m Ai Message \u001b[0m==================================\n",
      "\n",
      "Hashing is a fundamental concept in computer science, but don't worry if you're not familiar with it yet. Let's break it down step by step.\n",
      "\n",
      "Imagine you have a large library with millions of books, and you want to find a specific book quickly. One way to do this is by using a catalog system where each book is assigned a unique identifier or \"hash\" based on its title, author, or other characteristics.\n",
      "\n",
      "In computer science, a hash is a fixed-size value that represents a larger piece of data, like a string or an integer. This hash value is generated using a hash function, which takes the input data and maps it to a unique hash value.\n",
      "\n",
      "Here's an example to illustrate this concept. Let's say we have a simple hash function that takes a string as input and returns a hash value based on the length of the string.\n",
      "\n",
      "```python\n",
      "def simple_hash(input_string):\n",
      "    return len(input_string)\n",
      "\n",
      "print(simple_hash(\"hello\"))  # Output: 5\n",
      "print(simple_hash(\"world\"))  # Output: 5\n",
      "```\n",
      "\n",
      "In this example, the hash function `simple_hash` takes a string as input and returns its length as the hash value.\n",
      "\n",
      "Now, let's think about how we can use this concept to solve a problem. Suppose we want to create a program that stores a collection of unique strings, and we want to ensure that each string is unique.\n",
      "\n",
      "How would you design a hash function to store these strings in a way that allows us to quickly check if a string already exists in the collection?\n",
      "\n",
      "What would be the key characteristics of this hash function, and how would you implement it in code?\n",
      "==================================\u001b[1m Ai Message \u001b[0m==================================\n",
      "\n",
      "Don't worry, it's a complex concept. Let's break it down further.\n",
      "\n",
      "To design a hash function that stores unique strings, we need to consider a few key characteristics:\n",
      "\n",
      "1. **Deterministic**: Given a specific input, the hash function should always return the same output.\n",
      "2. **Non-injective**: Different inputs can have the same output (this is known as a collision).\n",
      "3. **Fixed output size**: The output of the hash function should always be the same size, regardless of the input size.\n",
      "\n",
      "Let's focus on the first characteristic: deterministic. What does it mean for a function to be deterministic?\n",
      "\n",
      "In the context of a hash function, being deterministic means that if we input the same string, we should always get the same output. This is important because it ensures that we can consistently map a string to a specific hash value.\n",
      "\n",
      "Here's an example to illustrate this concept:\n",
      "\n",
      "```python\n",
      "def hash_function(input_string):\n",
      "    # What code would we need to write here to make this function deterministic?\n",
      "    pass\n",
      "```\n",
      "\n",
      "To make this function deterministic, we need to ensure that the output depends only on the input string, and not on any other factors. Can you think of a way to do this?\n",
      "\n",
      "For example, how about using the ASCII values of the characters in the input string? We could sum up the ASCII values, or multiply them together, or...?\n",
      "\n",
      "What do you think?\n",
      "==================================\u001b[1m Ai Message \u001b[0m==================================\n",
      "\n",
      "Let's take a closer look at the idea of using ASCII values to make the hash function deterministic.\n",
      "\n",
      "In ASCII, each character has a unique numerical value. For example, the character 'a' has an ASCII value of 97, and the character 'b' has an ASCII value of 98.\n",
      "\n",
      "We can use these ASCII values to create a deterministic hash function by summing up the values of all the characters in the input string.\n",
      "\n",
      "Here's an example:\n",
      "\n",
      "```python\n",
      "def hash_function(input_string):\n",
      "    hash_value = 0\n",
      "    for char in input_string:\n",
      "        hash_value += ord(char)\n",
      "    return hash_value\n",
      "```\n",
      "\n",
      "In this code, we use the `ord` function to get the ASCII value of each character, and then add it to the `hash_value`.\n",
      "\n",
      "Let's test this function with a few examples:\n",
      "\n",
      "```python\n",
      "print(hash_function(\"hello\"))  # Output: 532\n",
      "print(hash_function(\"world\"))  # Output: 552\n",
      "print(hash_function(\"hello\"))  # Output: 532 (same as before)\n",
      "```\n",
      "\n",
      "As you can see, the function is deterministic because it always returns the same output for the same input.\n",
      "\n",
      "However, there's still a problem with this function. Can you think of what it is?\n",
      "\n",
      "Hint: Think about what happens when we input two different strings that have the same characters, but in a different order. For example, what would happen if we input \"hello\" and \"olleh\"?\n"
     ]
    }
   ],
   "source": [
    "config = {\"configurable\": {\"thread_id\": \"6\"}}\n",
    "\n",
    "input_message = HumanMessage(content=\"what is hashing?\")\n",
    "output = graph.invoke({\"messages\": [input_message]}, config)\n",
    "for m in output['messages'][-1:]:\n",
    "    m.pretty_print()\n",
    "    \n",
    "input_message = HumanMessage(content=\"I'm not sure\")\n",
    "output = graph.invoke({\"messages\": [input_message]}, config) \n",
    "for m in output['messages'][-1:]:\n",
    "    m.pretty_print()\n",
    "    \n",
    "input_message = HumanMessage(content=\"I think I'm starting to get it but I need more help\")\n",
    "output = graph.invoke({\"messages\": [input_message]}, config) \n",
    "for m in output['messages'][-1:]:\n",
    "    m.pretty_print()"
   ]
  },
  {
   "cell_type": "code",
   "execution_count": 15,
   "metadata": {},
   "outputs": [
    {
     "data": {
      "text/plain": [
       "''"
      ]
     },
     "execution_count": 15,
     "metadata": {},
     "output_type": "execute_result"
    }
   ],
   "source": [
    "graph.get_state(config).values.get(\"summary\",\"\")"
   ]
  },
  {
   "cell_type": "code",
   "execution_count": 36,
   "metadata": {},
   "outputs": [
    {
     "name": "stdout",
     "output_type": "stream",
     "text": [
      "==================================\u001b[1m Ai Message \u001b[0m==================================\n",
      "\n",
      "Would you like me to provide you the complete answer? Please reply as yes or no.\n"
     ]
    }
   ],
   "source": [
    "config = {\"configurable\": {\"thread_id\": \"6\"}}\n",
    "input_message = HumanMessage(content=\"I think the databases have a key associated with each item that can be indexed very quickly.\")\n",
    "output = graph.invoke({\"messages\": [input_message]}, config) \n",
    "for m in output['messages'][-1:]:\n",
    "    m.pretty_print()"
   ]
  },
  {
   "cell_type": "code",
   "execution_count": 37,
   "metadata": {},
   "outputs": [
    {
     "data": {
      "text/plain": [
       "('interrupt',)"
      ]
     },
     "execution_count": 37,
     "metadata": {},
     "output_type": "execute_result"
    }
   ],
   "source": [
    "graph.get_state(config).next"
   ]
  },
  {
   "cell_type": "code",
   "execution_count": 38,
   "metadata": {},
   "outputs": [
    {
     "data": {
      "text/plain": [
       "(PregelTask(id='04f3cc1c-d4a0-c3c5-c41f-4fdfeac8f9c3', name='interrupt', error=None, interrupts=(Interrupt(value='Recent chat longer than 6 messages', when='during'),), state=None),)"
      ]
     },
     "execution_count": 38,
     "metadata": {},
     "output_type": "execute_result"
    }
   ],
   "source": [
    "graph.get_state(config).tasks"
   ]
  },
  {
   "cell_type": "code",
   "execution_count": 39,
   "metadata": {},
   "outputs": [
    {
     "data": {
      "text/plain": [
       "{'configurable': {'thread_id': '6',\n",
       "  'checkpoint_ns': '',\n",
       "  'checkpoint_id': '1ef7b188-064c-6666-8007-8aea05227951'}}"
      ]
     },
     "execution_count": 39,
     "metadata": {},
     "output_type": "execute_result"
    }
   ],
   "source": [
    "graph.update_state(\n",
    "    config,\n",
    "    {\"messages\": \"yes\"},\n",
    ")"
   ]
  },
  {
   "cell_type": "code",
   "execution_count": 58,
   "metadata": {},
   "outputs": [
    {
     "name": "stdout",
     "output_type": "stream",
     "text": [
      "{'messages': [HumanMessage(content='What is hashing?', id='8c23a2f7-86bc-4a1c-a8a4-e307648abdd2'), AIMessage(content=\"Hashing is a fundamental concept in computer science, but let's break it down step by step.\\n\\nTo start, can you think of a situation where you have a large amount of data, and you want to quickly identify or locate a specific piece of information within that data? Perhaps you've used a library or a database before. How do you think the library or database manages to find the specific book or piece of information you're looking for so quickly?\\n\\nWhat if I told you that there's a way to map a piece of information, like a string or an integer, to a unique identifier that can help us locate it more efficiently? What would you call this process, and how do you think it might work?\", response_metadata={'token_usage': {'completion_tokens': 145, 'prompt_tokens': 515, 'total_tokens': 660, 'completion_time': 0.581719616, 'prompt_time': 0.139046958, 'queue_time': 0.55903782, 'total_time': 0.720766574}, 'model_name': 'llama-3.1-70b-versatile', 'system_fingerprint': 'fp_b6828be2c9', 'finish_reason': 'stop', 'logprobs': None}, id='run-eff18597-4012-46eb-97ec-0dcf4d8a1344-0', usage_metadata={'input_tokens': 515, 'output_tokens': 145, 'total_tokens': 660}), HumanMessage(content='I think the databases have a key associated with each item that can be indexed very quickly.', id='429f9880-275e-422e-bca0-140e684d3fb5'), HumanMessage(content='yes', id='efcb259d-2a73-49d6-bf0a-c5885f41328d'), HumanMessage(content='no', id='e24a0ab9-6eee-4ea6-81b6-aaffade6243f')], 'context': \"That's a great intuition. In a database, a key is often used to uniquely identify a piece of information. And you're correct that databases use indexes to quickly locate data.\\n\\nHashing is a process that maps a piece of information, like a string or an integer, to a unique identifier, often called a hash code or digest. This hash code serves as an index or a key that can be used to quickly locate the associated data.\\n\\nThink of it like a phonebook. In a phonebook, names are mapped to phone numbers. When you look up a name, you can quickly find the corresponding phone number. Similarly, in hashing, a piece of data (like a string) is mapped to a unique hash code, which can be used to quickly locate the associated data.\\n\\nA good hashing function should have a few key properties:\\n\\n1. **Deterministic**: Given the same input, the hashing function should always produce the same output.\\n2. **Non-injective**: Different inputs should ideally produce different outputs (this is where collisions can occur).\\n3. **Fixed output size**: The output of the hashing function should always be of a fixed size, regardless of the input size.\\n\\nHashing has many applications, including data storage, data retrieval, and even cryptography. Some common data structures that rely on hashing include hash tables, sets, and maps.\\n\\nDo you have any questions about how hashing functions work or any specific applications you'd like to know more about?\"}\n"
     ]
    }
   ],
   "source": [
    "for event in graph.stream(None, config, stream_mode=\"values\"):\n",
    "    print(event)"
   ]
  },
  {
   "cell_type": "code",
   "execution_count": 49,
   "metadata": {},
   "outputs": [
    {
     "data": {
      "text/plain": [
       "('interrupt',)"
      ]
     },
     "execution_count": 49,
     "metadata": {},
     "output_type": "execute_result"
    }
   ],
   "source": [
    "graph.get_state(config).next"
   ]
  },
  {
   "cell_type": "code",
   "execution_count": 50,
   "metadata": {},
   "outputs": [
    {
     "data": {
      "text/plain": [
       "{'configurable': {'thread_id': '6',\n",
       "  'checkpoint_ns': '',\n",
       "  'checkpoint_id': '1ef7b484-199a-6b88-8008-d6e7871d3b09'}}"
      ]
     },
     "execution_count": 50,
     "metadata": {},
     "output_type": "execute_result"
    }
   ],
   "source": [
    "graph.update_state(config, {\"messages\": \"no\"},)"
   ]
  },
  {
   "cell_type": "code",
   "execution_count": 64,
   "metadata": {},
   "outputs": [
    {
     "ename": "KeyError",
     "evalue": "'socratic'",
     "output_type": "error",
     "traceback": [
      "\u001b[0;31m---------------------------------------------------------------------------\u001b[0m",
      "\u001b[0;31mKeyError\u001b[0m                                  Traceback (most recent call last)",
      "Cell \u001b[0;32mIn[64], line 2\u001b[0m\n\u001b[1;32m      1\u001b[0m \u001b[38;5;28;01mfor\u001b[39;00m event \u001b[38;5;129;01min\u001b[39;00m graph\u001b[38;5;241m.\u001b[39mstream({\u001b[38;5;124m\"\u001b[39m\u001b[38;5;124mmessages\u001b[39m\u001b[38;5;124m\"\u001b[39m: [HumanMessage(content\u001b[38;5;241m=\u001b[39m\u001b[38;5;124m\"\u001b[39m\u001b[38;5;124mwhat is pretty_print in python?\u001b[39m\u001b[38;5;124m\"\u001b[39m)]}, config, stream_mode\u001b[38;5;241m=\u001b[39m\u001b[38;5;124m\"\u001b[39m\u001b[38;5;124mupdates\u001b[39m\u001b[38;5;124m\"\u001b[39m):\n\u001b[0;32m----> 2\u001b[0m     \u001b[43mevent\u001b[49m\u001b[43m[\u001b[49m\u001b[38;5;124;43m'\u001b[39;49m\u001b[38;5;124;43msocratic\u001b[39;49m\u001b[38;5;124;43m'\u001b[39;49m\u001b[43m]\u001b[49m[\u001b[38;5;124m'\u001b[39m\u001b[38;5;124mmessages\u001b[39m\u001b[38;5;124m'\u001b[39m]\u001b[38;5;241m.\u001b[39mpretty_print()\n",
      "\u001b[0;31mKeyError\u001b[0m: 'socratic'"
     ]
    }
   ],
   "source": [
    "for event in graph.stream({\"messages\": [HumanMessage(content=\"what is pretty_print in python?\")]}, config, stream_mode=\"updates\"):\n",
    "    event['socratic']['messages'].pretty_print()"
   ]
  },
  {
   "cell_type": "code",
   "execution_count": 57,
   "metadata": {},
   "outputs": [
    {
     "name": "stdout",
     "output_type": "stream",
     "text": [
      "messages\n",
      "context\n"
     ]
    }
   ],
   "source": [
    "for event in graph.stream(None, config, stream_mode=\"values\"):\n",
    "    for value in event:\n",
    "        print(value)"
   ]
  },
  {
   "cell_type": "code",
   "execution_count": null,
   "metadata": {},
   "outputs": [],
   "source": [
    "for chunk in graph.stream({\"messages\": input_message}, config, stream_mode=\"updates\"):\n",
    "    chunk"
   ]
  }
 ],
 "metadata": {
  "kernelspec": {
   "display_name": ".venv",
   "language": "python",
   "name": "python3"
  },
  "language_info": {
   "codemirror_mode": {
    "name": "ipython",
    "version": 3
   },
   "file_extension": ".py",
   "mimetype": "text/x-python",
   "name": "python",
   "nbconvert_exporter": "python",
   "pygments_lexer": "ipython3",
   "version": "3.12.2"
  }
 },
 "nbformat": 4,
 "nbformat_minor": 2
}
